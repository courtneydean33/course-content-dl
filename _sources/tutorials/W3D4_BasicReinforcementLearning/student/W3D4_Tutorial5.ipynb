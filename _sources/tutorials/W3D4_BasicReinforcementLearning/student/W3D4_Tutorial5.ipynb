{
 "cells": [
  {
   "cell_type": "markdown",
   "metadata": {
    "colab_type": "text",
    "execution": {},
    "id": "view-in-github"
   },
   "source": [
    "<a href=\"https://colab.research.google.com/github/NeuromatchAcademy/course-content-dl/blob/main/tutorials/W3D4_BasicReinforcementLearning/student/W3D4_Tutorial5.ipynb\" target=\"_blank\"><img alt=\"Open In Colab\" src=\"https://colab.research.google.com/assets/colab-badge.svg\"/></a>   <a href=\"https://kaggle.com/kernels/welcome?src=https://raw.githubusercontent.com/NeuromatchAcademy/course-content-dl/main/tutorials/W3D4_BasicReinforcementLearning/student/W3D4_Tutorial5.ipynb\" target=\"_blank\"><img alt=\"Open in Kaggle\" src=\"https://kaggle.com/static/images/open-in-kaggle.svg\"/></a>"
   ]
  },
  {
   "cell_type": "markdown",
   "metadata": {
    "execution": {}
   },
   "source": [
    "# Bonus Tutorial: Function approximation\n",
    "\n",
    "**Week 3, Day 4: Basic Reinforcement Learning (RL)**\n",
    "\n",
    "**By Neuromatch Academy**\n",
    "\n",
    "__Content creators:__ Marcelo G Mattar, Eric DeWitt, Matt Krause, Matthew Sargent, Anoop Kulkarni, Sowmya Parthiban, Feryal Behbahani, Jane Wang\n",
    "\n",
    "__Content reviewers:__ Ella Batty, Byron Galbraith, Michael Waskom, Ezekiel Williams, Mehul Rastogi, Lily Cheng, Roberto Guidotti, Arush Tagade, Kelson Shilling-Scrivo\n",
    "\n",
    "__Production editors:__ Gagana B, Spiros Chavlis"
   ]
  },
  {
   "cell_type": "markdown",
   "metadata": {
    "execution": {}
   },
   "source": [
    "<p align='center'><img src='https://github.com/NeuromatchAcademy/widgets/blob/master/sponsors.png?raw=True'/></p>"
   ]
  },
  {
   "cell_type": "markdown",
   "metadata": {
    "execution": {}
   },
   "source": [
    "---\n",
    "# Tutorial Objectives\n",
    "\n",
    "This whole notebook contains bonus material to get a better sense of more complex reinforcement learning models as well as real world applications of RL. Previously, we implemented fundemental ideas of RL in basic Python. Here, we will show how these can be implemented using the [Acme](https://www.deepmind.com/publications/acme-a-new-framework-for-distributed-reinforcement-learning) library by DeepMind. For the project on GitHub see [here](https://github.com/deepmind/acme).\n",
    "\n",
    "By the end of the tutorial, you should be able to:\n",
    "\n",
    "1. Implement, train, and test a NFQ Agent\n",
    "2. Use a Deep Q-network\n",
    "3. Learn the Policy Gradient and the Actor Critic\n",
    "4. Use RL in real-world applications"
   ]
  },
  {
   "cell_type": "markdown",
   "metadata": {},
   "source": [
    "##  Tutorial slides\n"
   ]
  },
  {
   "cell_type": "code",
   "execution_count": null,
   "metadata": {
    "cellView": "form",
    "execution": {},
    "tags": [
     "remove-input"
    ]
   },
   "outputs": [],
   "source": [
    "# @title Tutorial slides\n",
    "\n",
    "from IPython.display import IFrame\n",
    "IFrame(src=f\"https://mfr.ca-1.osf.io/render?url=https://osf.io/m3kqy/?direct%26mode=render%26action=download%26mode=render\", width=854, height=480)"
   ]
  },
  {
   "cell_type": "markdown",
   "metadata": {
    "execution": {}
   },
   "source": [
    "These are the slides for all videos in this tutorial. If you want to locally download the slides, click [here](https://osf.io/m3kqy/download)."
   ]
  },
  {
   "cell_type": "markdown",
   "metadata": {
    "execution": {}
   },
   "source": [
    "---\n",
    "# Setup\n",
    "\n",
    "Run the following *Setup* cells in order to set up needed functions. Don't worry about the code for now!\n",
    "\n",
    "**Note:** There is an issue with some images not showing up if you're using a Safari browser. Please switch to Chrome if this is the case.\n",
    "\n",
    "**Kaggle users:** You need to downgrade acme and use acme v. 0.2. So, in the cell below, comment out the three last lines and add:\n",
    "\n",
    "`!pip install dm-acme==0.2 --quiet`"
   ]
  },
  {
   "cell_type": "markdown",
   "metadata": {},
   "source": [
    "##  Install requirements\n"
   ]
  },
  {
   "cell_type": "code",
   "execution_count": null,
   "metadata": {
    "cellView": "form",
    "execution": {},
    "tags": [
     "hide-input"
    ]
   },
   "outputs": [],
   "source": [
    "# @title Install requirements\n",
    "\n",
    "# @markdown We install the acme library, see [here](https://github.com/deepmind/acme) for more info.\n",
    "\n",
    "# @markdown **WARNING:** There may be *errors* and/or *warnings* reported during the installation. However, they should be ignored.\n",
    "\n",
    "!pip install --upgrade pip --quiet\n",
    "!pip install imageio --quiet\n",
    "!pip install imageio-ffmpeg --quiet\n",
    "!pip install gym --quiet\n",
    "!pip install enum34 --quiet\n",
    "!pip install pandas --quiet\n",
    "!pip install grpcio==1.34.0 --quiet\n",
    "!pip install typing --quiet\n",
    "!pip install einops --quiet\n",
    "!pip install dm-acme[reverb] --quiet\n",
    "!pip install dm-acme[jax,tensorflow] --quiet\n",
    "!pip install dm-acme[envs] --quiet"
   ]
  },
  {
   "cell_type": "code",
   "execution_count": null,
   "metadata": {
    "execution": {}
   },
   "outputs": [],
   "source": [
    "# Import modules\n",
    "import gym\n",
    "import enum\n",
    "import copy\n",
    "import time\n",
    "import acme\n",
    "import torch\n",
    "import base64\n",
    "import dm_env\n",
    "import IPython\n",
    "import imageio\n",
    "import warnings\n",
    "import itertools\n",
    "import collections\n",
    "\n",
    "import numpy as np\n",
    "import pandas as pd\n",
    "import matplotlib as mpl\n",
    "import matplotlib.pyplot as plt\n",
    "\n",
    "from typing import Sequence\n",
    "\n",
    "import torch.nn as nn\n",
    "import torch.optim as optim\n",
    "import torch.nn.functional as F\n",
    "from torch.autograd import Variable\n",
    "from torch.distributions import Categorical\n",
    "\n",
    "from acme import specs\n",
    "from acme import wrappers\n",
    "from acme.utils import tree_utils\n",
    "from acme.utils import loggers\n",
    "\n",
    "warnings.filterwarnings('ignore')\n",
    "np.set_printoptions(precision=3, suppress=1)"
   ]
  },
  {
   "cell_type": "markdown",
   "metadata": {},
   "source": [
    "##  Figure settings\n"
   ]
  },
  {
   "cell_type": "code",
   "execution_count": null,
   "metadata": {
    "cellView": "form",
    "execution": {},
    "tags": [
     "hide-input"
    ]
   },
   "outputs": [],
   "source": [
    "# @title Figure settings\n",
    "import ipywidgets as widgets  # Interactive display\n",
    "%matplotlib inline\n",
    "%config InlineBackend.figure_format = 'retina'\n",
    "plt.style.use(\"https://raw.githubusercontent.com/NeuromatchAcademy/content-creation/main/nma.mplstyle\")\n",
    "mpl.rc('image', cmap='Blues')"
   ]
  },
  {
   "cell_type": "markdown",
   "metadata": {},
   "source": [
    "##  Helper Functions\n"
   ]
  },
  {
   "cell_type": "markdown",
   "metadata": {},
   "source": [
    " Implement helpers for value visualisation\n"
   ]
  },
  {
   "cell_type": "code",
   "execution_count": null,
   "metadata": {
    "cellView": "form",
    "execution": {},
    "tags": [
     "hide-input"
    ]
   },
   "outputs": [],
   "source": [
    "# @title Helper Functions\n",
    "# @markdown Implement helpers for value visualisation\n",
    "\n",
    "map_from_action_to_subplot = lambda a: (2, 6, 8, 4)[a]\n",
    "map_from_action_to_name = lambda a: (\"up\", \"right\", \"down\", \"left\")[a]\n",
    "\n",
    "\n",
    "def plot_values(values, colormap='pink', vmin=-1, vmax=10):\n",
    "  \"\"\"\n",
    "  Plots incoming values\n",
    "\n",
    "  Args:\n",
    "    values: List\n",
    "      List of values to be plotted\n",
    "    colormap: String\n",
    "      Defines colormap of plot\n",
    "    vmin: Integer\n",
    "      Smallest possible value within \"values\"\n",
    "    vmax: Integer\n",
    "      Highest possible value within \"values\"\n",
    "\n",
    "  Returns:\n",
    "    Nothing\n",
    "  \"\"\"\n",
    "  plt.imshow(values, interpolation=\"nearest\",\n",
    "             cmap=colormap, vmin=vmin, vmax=vmax)\n",
    "  plt.yticks([])\n",
    "  plt.xticks([])\n",
    "  plt.colorbar(ticks=[vmin, vmax])\n",
    "\n",
    "\n",
    "def plot_state_value(state_values, epsilon=0.1):\n",
    "  \"\"\"\n",
    "  Helper function to plot state value\n",
    "\n",
    "  Args:\n",
    "    state_values: np.ndarray\n",
    "      Action values with shape (9, 10, 4)\n",
    "    epsilon: Float\n",
    "      Sets the exploitation-exploration control hyperparameter [default=0.1]\n",
    "\n",
    "  Returns:\n",
    "    Nothing\n",
    "  \"\"\"\n",
    "  q = state_values\n",
    "  fig = plt.figure(figsize=(4, 4))\n",
    "  vmin = np.min(state_values)\n",
    "  vmax = np.max(state_values)\n",
    "  v = (1 - epsilon) * np.max(q, axis=-1) + epsilon * np.mean(q, axis=-1)\n",
    "  plot_values(v, colormap='summer', vmin=vmin, vmax=vmax)\n",
    "  plt.title(\"$v(s)$\")\n",
    "\n",
    "\n",
    "def plot_action_values(action_values, epsilon=0.1):\n",
    "  \"\"\"\n",
    "  Helper function to plot action value\n",
    "\n",
    "  Args:\n",
    "    action_values: np.ndarray\n",
    "      Action values with shape (9, 10, 4)\n",
    "    epsilon: Float\n",
    "      Sets the exploitation-exploration control hyperparameter [default=0.1]\n",
    "  Returns:\n",
    "    Nothing\n",
    "  \"\"\"\n",
    "  q = action_values\n",
    "  fig = plt.figure(figsize=(8, 8))\n",
    "  fig.subplots_adjust(wspace=0.3, hspace=0.3)\n",
    "  vmin = np.min(action_values)\n",
    "  vmax = np.max(action_values)\n",
    "  dif = vmax - vmin\n",
    "  for a in [0, 1, 2, 3]:\n",
    "    plt.subplot(3, 3, map_from_action_to_subplot(a))\n",
    "\n",
    "    plot_values(q[..., a], vmin=vmin - 0.05*dif, vmax=vmax + 0.05*dif)\n",
    "    action_name = map_from_action_to_name(a)\n",
    "    plt.title(r\"$q(s, \\mathrm{\" + action_name + r\"})$\")\n",
    "\n",
    "  plt.subplot(3, 3, 5)\n",
    "  v = (1 - epsilon) * np.max(q, axis=-1) + epsilon * np.mean(q, axis=-1)\n",
    "  plot_values(v, colormap='summer', vmin=vmin, vmax=vmax)\n",
    "  plt.title(\"$v(s)$\")"
   ]
  },
  {
   "cell_type": "markdown",
   "metadata": {},
   "source": [
    "##  Set random seed\n"
   ]
  },
  {
   "cell_type": "markdown",
   "metadata": {},
   "source": [
    " Executing `set_seed(seed=seed)` you are setting the seed\n"
   ]
  },
  {
   "cell_type": "code",
   "execution_count": null,
   "metadata": {
    "cellView": "form",
    "execution": {},
    "tags": [
     "hide-input"
    ]
   },
   "outputs": [],
   "source": [
    "# @title Set random seed\n",
    "\n",
    "# @markdown Executing `set_seed(seed=seed)` you are setting the seed\n",
    "\n",
    "# For DL its critical to set the random seed so that students can have a\n",
    "# baseline to compare their results to expected results.\n",
    "# Read more here: https://pytorch.org/docs/stable/notes/randomness.html\n",
    "\n",
    "# Call `set_seed` function in the exercises to ensure reproducibility.\n",
    "import random\n",
    "import torch\n",
    "\n",
    "def set_seed(seed=None, seed_torch=True):\n",
    "  \"\"\"\n",
    "  Function that controls randomness. NumPy and random modules must be imported.\n",
    "\n",
    "  Args:\n",
    "    seed : Integer\n",
    "      A non-negative integer that defines the random state. Default is `None`.\n",
    "    seed_torch : Boolean\n",
    "      If `True` sets the random seed for pytorch tensors, so pytorch module\n",
    "      must be imported. Default is `True`.\n",
    "\n",
    "  Returns:\n",
    "    Nothing.\n",
    "  \"\"\"\n",
    "  if seed is None:\n",
    "    seed = np.random.choice(2 ** 32)\n",
    "  random.seed(seed)\n",
    "  np.random.seed(seed)\n",
    "  if seed_torch:\n",
    "    torch.manual_seed(seed)\n",
    "    torch.cuda.manual_seed_all(seed)\n",
    "    torch.cuda.manual_seed(seed)\n",
    "    torch.backends.cudnn.benchmark = False\n",
    "    torch.backends.cudnn.deterministic = True\n",
    "\n",
    "  print(f'Random seed {seed} has been set.')\n",
    "\n",
    "\n",
    "# In case that `DataLoader` is used\n",
    "def seed_worker(worker_id):\n",
    "  \"\"\"\n",
    "  DataLoader will reseed workers following randomness in\n",
    "  multi-process data loading algorithm.\n",
    "\n",
    "  Args:\n",
    "    worker_id: integer\n",
    "      ID of subprocess to seed. 0 means that\n",
    "      the data will be loaded in the main process\n",
    "      Refer: https://pytorch.org/docs/stable/data.html#data-loading-randomness for more details\n",
    "\n",
    "  Returns:\n",
    "    Nothing\n",
    "  \"\"\"\n",
    "  worker_seed = torch.initial_seed() % 2**32\n",
    "  np.random.seed(worker_seed)\n",
    "  random.seed(worker_seed)"
   ]
  },
  {
   "cell_type": "markdown",
   "metadata": {},
   "source": [
    "##  Set device (GPU or CPU). Execute `set_device()`\n"
   ]
  },
  {
   "cell_type": "code",
   "execution_count": null,
   "metadata": {
    "cellView": "form",
    "execution": {},
    "tags": [
     "hide-input"
    ]
   },
   "outputs": [],
   "source": [
    "# @title Set device (GPU or CPU). Execute `set_device()`\n",
    "# especially if torch modules used.\n",
    "\n",
    "# Inform the user if the notebook uses GPU or CPU.\n",
    "\n",
    "def set_device():\n",
    "  \"\"\"\n",
    "  Set the device. CUDA if available, CPU otherwise\n",
    "\n",
    "  Args:\n",
    "    None\n",
    "\n",
    "  Returns:\n",
    "    Nothing\n",
    "  \"\"\"\n",
    "  device = \"cuda\" if torch.cuda.is_available() else \"cpu\"\n",
    "  if device != \"cuda\":\n",
    "    print(\"WARNING: For this notebook to perform best, \"\n",
    "        \"if possible, in the menu under `Runtime` -> \"\n",
    "        \"`Change runtime type.`  select `GPU` \")\n",
    "  else:\n",
    "    print(\"GPU is enabled in this notebook.\")\n",
    "\n",
    "  return device"
   ]
  },
  {
   "cell_type": "code",
   "execution_count": null,
   "metadata": {
    "execution": {}
   },
   "outputs": [],
   "source": [
    "SEED = 2021\n",
    "set_seed(seed=SEED)\n",
    "DEVICE = set_device()"
   ]
  },
  {
   "cell_type": "markdown",
   "metadata": {
    "execution": {}
   },
   "source": [
    "## Acme: a research framework for reinforcement learning\n",
    "\n",
    "**Acme** is a library of reinforcement learning (RL) agents and agent building blocks by Google DeepMind. Acme strives to expose simple, efficient, and readable agents, that serve both as reference implementations of popular algorithms and as strong baselines, while still providing enough flexibility to do novel research. The design of Acme also attempts to provide multiple points of entry to the RL problem at differing levels of complexity.\n",
    "\n",
    "For more information see the github's repository [deepmind/acme](https://github.com/deepmind/acme)."
   ]
  },
  {
   "cell_type": "markdown",
   "metadata": {
    "execution": {}
   },
   "source": [
    "\n",
    "For this practical session, we will focus on a **simple grid world** environment, which consists of a 9 x 10 grid of wall and empty cells - depicted in black and white, respectively. The smiling agent starts from an initial location and needs to navigate to reach the goal square.\n",
    "\n",
    "<center><img src=\"https://raw.githubusercontent.com/NeuromatchAcademy/course-content-dl/main/tutorials/W3D4_BasicReinforcementLearning/static/tabular_RL_loop.png\" width=\"500\" /></center>\n",
    "\n",
    "Below you will find an implementation of this Gridworld as a `dm_env.Environment`.\n",
    "\n",
    "There is no coding in this section, but if you want, you can look over the provided code so that you can familiarize yourself with an example of how to set up a **grid world** environment.\n"
   ]
  },
  {
   "cell_type": "markdown",
   "metadata": {},
   "source": [
    "###  Implement GridWorld\n"
   ]
  },
  {
   "cell_type": "markdown",
   "metadata": {},
   "source": [
    " ##### *Double-click* to inspect the contents of this cell.\n"
   ]
  },
  {
   "cell_type": "code",
   "execution_count": null,
   "metadata": {
    "cellView": "form",
    "execution": {},
    "tags": [
     "hide-input"
    ]
   },
   "outputs": [],
   "source": [
    "# @title Implement GridWorld\n",
    "\n",
    "# @markdown ##### *Double-click* to inspect the contents of this cell.\n",
    "\n",
    "\n",
    "class ObservationType(enum.IntEnum):\n",
    "  \"\"\"\n",
    "  Class to examine observation type including goal position and state index;\n",
    "  Attributes:\n",
    "    observation_type: Enum\n",
    "        Enum observation type to use. One of:\n",
    "        * ObservationType.STATE_INDEX: int32 index of agent occupied tile.\n",
    "        * ObservationType.AGENT_ONEHOT: NxN float32 grid, with a 1 where the\n",
    "          agent is and 0 elsewhere.\n",
    "        * ObservationType.GRID: NxNx3 float32 grid of feature channels.\n",
    "          First channel contains walls (1 if wall, 0 otherwise), second the\n",
    "          agent position (1 if agent, 0 otherwise) and third goal position\n",
    "          (1 if goal, 0 otherwise)\n",
    "        * ObservationType.AGENT_GOAL_POS: float32 tuple with\n",
    "          (agent_y, agent_x, goal_y, goal_x)\n",
    "  \"\"\"\n",
    "  STATE_INDEX = enum.auto()\n",
    "  AGENT_ONEHOT = enum.auto()\n",
    "  GRID = enum.auto()\n",
    "  AGENT_GOAL_POS = enum.auto()\n",
    "\n",
    "\n",
    "class GridWorld(dm_env.Environment):\n",
    "  \"\"\"\n",
    "  Build a grid environment.\n",
    "  Simple gridworld defined by a map layout, a start and a goal state.\n",
    "  Layout should be a NxN grid, containing:\n",
    "      * 0: Empty\n",
    "      * -1: Wall\n",
    "      * Any other positive value: value indicates reward;\n",
    "        Episode will terminate\n",
    "  \"\"\"\n",
    "\n",
    "  def __init__(self,\n",
    "               layout,\n",
    "               start_state,\n",
    "               goal_state=None,\n",
    "               observation_type=ObservationType.STATE_INDEX,\n",
    "               discount=0.9,\n",
    "               penalty_for_walls=-5,\n",
    "               reward_goal=10,\n",
    "               max_episode_length=None,\n",
    "               randomize_goals=False):\n",
    "    \"\"\"\n",
    "    Initiates grid environment\n",
    "\n",
    "    Args:\n",
    "      layout: List\n",
    "        NxN array of numbers, indicating the layout of the environment.\n",
    "      start_state: Tuple\n",
    "        Tuple (y, x) of starting location.\n",
    "      goal_state: Tuple\n",
    "        Optional tuple (y, x) of goal location. Will be randomly\n",
    "        sampled once if None.\n",
    "      observation_type: Enum\n",
    "        Enum observation type to use.\n",
    "      discount: Float\n",
    "        Discounting factor included in all Timesteps.\n",
    "      penalty_for_walls: Integer\n",
    "        Reward added when hitting a wall (should be negative).\n",
    "      reward_goal: Integer\n",
    "        Reward added when finding the goal (should be positive).\n",
    "      max_episode_length: Integer\n",
    "        If set, will terminate an episode after this many steps.\n",
    "      randomize_goals: Boolean\n",
    "        If true, randomize goal at every episode.\n",
    "\n",
    "    Returns:\n",
    "      None\n",
    "    \"\"\"\n",
    "    if observation_type not in ObservationType:\n",
    "      raise ValueError('observation_type should be a ObservationType instace.')\n",
    "    self._layout = np.array(layout)\n",
    "    self._start_state = start_state\n",
    "    self._state = self._start_state\n",
    "    self._number_of_states = np.prod(np.shape(self._layout))\n",
    "    self._discount = discount\n",
    "    self._penalty_for_walls = penalty_for_walls\n",
    "    self._reward_goal = reward_goal\n",
    "    self._observation_type = observation_type\n",
    "    self._layout_dims = self._layout.shape\n",
    "    self._max_episode_length = max_episode_length\n",
    "    self._num_episode_steps = 0\n",
    "    self._randomize_goals = randomize_goals\n",
    "    if goal_state is None:\n",
    "      # Randomly sample goal_state if not provided\n",
    "      goal_state = self._sample_goal()\n",
    "    self.goal_state = goal_state\n",
    "\n",
    "  def _sample_goal(self):\n",
    "    \"\"\"\n",
    "    Randomly sample reachable non-starting state.\n",
    "\n",
    "    Args:\n",
    "      None\n",
    "\n",
    "    Returns:\n",
    "      Nothing\n",
    "    \"\"\"\n",
    "    # Sample a new goal\n",
    "    n = 0\n",
    "    max_tries = 1e5\n",
    "    while n < max_tries:\n",
    "      goal_state = tuple(np.random.randint(d) for d in self._layout_dims)\n",
    "      if goal_state != self._state and self._layout[goal_state] == 0:\n",
    "        # Reachable state found!\n",
    "        return goal_state\n",
    "      n += 1\n",
    "    raise ValueError('Failed to sample a goal state.')\n",
    "\n",
    "  @property\n",
    "  def layout(self):\n",
    "    return self._layout\n",
    "\n",
    "  @property\n",
    "  def number_of_states(self):\n",
    "    return self._number_of_states\n",
    "\n",
    "  @property\n",
    "  def goal_state(self):\n",
    "    return self._goal_state\n",
    "\n",
    "  @property\n",
    "  def start_state(self):\n",
    "    return self._start_state\n",
    "\n",
    "  @property\n",
    "  def state(self):\n",
    "    return self._state\n",
    "\n",
    "  def set_state(self, x, y):\n",
    "    self._state = (y, x)\n",
    "\n",
    "  def action_spec(self):\n",
    "    return specs.DiscreteArray(4, dtype=int, name='action')\n",
    "\n",
    "  @goal_state.setter\n",
    "  def goal_state(self, new_goal):\n",
    "    if new_goal == self._state or self._layout[new_goal] < 0:\n",
    "      raise ValueError('This is not a valid goal!')\n",
    "    # Zero out any other goal\n",
    "    self._layout[self._layout > 0] = 0\n",
    "    # Setup new goal location\n",
    "    self._layout[new_goal] = self._reward_goal\n",
    "    self._goal_state = new_goal\n",
    "\n",
    "  def plot_greedy_policy(self, q):\n",
    "    greedy_actions = np.argmax(q, axis=2)\n",
    "    self.plot_policy(greedy_actions)\n",
    "\n",
    "  def observation_spec(self):\n",
    "    \"\"\"\n",
    "    Function to return the spec-list based on observation type\n",
    "\n",
    "    Args:\n",
    "      None\n",
    "\n",
    "    Returns:\n",
    "      Specification-list based on observation type\n",
    "    \"\"\"\n",
    "    if self._observation_type is ObservationType.AGENT_ONEHOT:\n",
    "      return specs.Array(\n",
    "          shape=self._layout_dims,\n",
    "          dtype=np.float32,\n",
    "          name='observation_agent_onehot')\n",
    "    elif self._observation_type is ObservationType.GRID:\n",
    "      return specs.Array(\n",
    "          shape=self._layout_dims + (3,),\n",
    "          dtype=np.float32,\n",
    "          name='observation_grid')\n",
    "    elif self._observation_type is ObservationType.AGENT_GOAL_POS:\n",
    "      return specs.Array(\n",
    "          shape=(4, ), dtype=np.float32, name='observation_agent_goal_pos')\n",
    "    elif self._observation_type is ObservationType.STATE_INDEX:\n",
    "      return specs.DiscreteArray(\n",
    "          self._number_of_states, dtype=int, name='observation_state_index')\n",
    "\n",
    "  def get_obs(self):\n",
    "    \"\"\"\n",
    "    Returns observation initiating agent state, position, goal state\n",
    "\n",
    "    Args:\n",
    "      None\n",
    "\n",
    "    Returns:\n",
    "      Observation\n",
    "    \"\"\"\n",
    "    if self._observation_type is ObservationType.AGENT_ONEHOT:\n",
    "      obs = np.zeros(self._layout.shape, dtype=np.float32)\n",
    "      # Place agent\n",
    "      obs[self._state] = 1\n",
    "      return obs\n",
    "    elif self._observation_type is ObservationType.GRID:\n",
    "      obs = np.zeros(self._layout.shape + (3,), dtype=np.float32)\n",
    "      obs[..., 0] = self._layout < 0\n",
    "      obs[self._state[0], self._state[1], 1] = 1\n",
    "      obs[self._goal_state[0], self._goal_state[1], 2] = 1\n",
    "      return obs\n",
    "    elif self._observation_type is ObservationType.AGENT_GOAL_POS:\n",
    "      return np.array(self._state + self._goal_state, dtype=np.float32)\n",
    "    elif self._observation_type is ObservationType.STATE_INDEX:\n",
    "      y, x = self._state\n",
    "      return y * self._layout.shape[1] + x\n",
    "\n",
    "  def reset(self):\n",
    "    \"\"\"\n",
    "    Helper function to reset GridWorld\n",
    "\n",
    "    Args:\n",
    "      None\n",
    "\n",
    "    Returns:\n",
    "      Reset environment\n",
    "    \"\"\"\n",
    "    self._state = self._start_state\n",
    "    self._num_episode_steps = 0\n",
    "    if self._randomize_goals:\n",
    "      self.goal_state = self._sample_goal()\n",
    "    return dm_env.TimeStep(\n",
    "        step_type=dm_env.StepType.FIRST,\n",
    "        reward=None,\n",
    "        discount=None,\n",
    "        observation=self.get_obs())\n",
    "\n",
    "  def step(self, action):\n",
    "    \"\"\"\n",
    "    Helper function to process current position and\n",
    "    optimize future steps towards goal\n",
    "\n",
    "    Args:\n",
    "      action: Integer\n",
    "        if 0, move up; if 1, move right; if 2, more down and if 3, move left\n",
    "\n",
    "    Returns:\n",
    "      Observation from new position;\n",
    "    \"\"\"\n",
    "    y, x = self._state\n",
    "\n",
    "    if action == 0:  # Up\n",
    "      new_state = (y - 1, x)\n",
    "    elif action == 1:  # Right\n",
    "      new_state = (y, x + 1)\n",
    "    elif action == 2:  # Down\n",
    "      new_state = (y + 1, x)\n",
    "    elif action == 3:  # Left\n",
    "      new_state = (y, x - 1)\n",
    "    else:\n",
    "      raise ValueError(\n",
    "          'Invalid action: {} is not 0, 1, 2, or 3.'.format(action))\n",
    "\n",
    "    new_y, new_x = new_state\n",
    "    step_type = dm_env.StepType.MID\n",
    "    if self._layout[new_y, new_x] == -1:  # Wall\n",
    "      reward = self._penalty_for_walls\n",
    "      discount = self._discount\n",
    "      new_state = (y, x)\n",
    "    elif self._layout[new_y, new_x] == 0:  # Empty cell\n",
    "      reward = 0.\n",
    "      discount = self._discount\n",
    "    else:  # Goal\n",
    "      reward = self._layout[new_y, new_x]\n",
    "      discount = 0.\n",
    "      new_state = self._start_state\n",
    "      step_type = dm_env.StepType.LAST\n",
    "\n",
    "    self._state = new_state\n",
    "    self._num_episode_steps += 1\n",
    "    if (self._max_episode_length is not None and\n",
    "        self._num_episode_steps >= self._max_episode_length):\n",
    "      step_type = dm_env.StepType.LAST\n",
    "    return dm_env.TimeStep(\n",
    "        step_type=step_type,\n",
    "        reward=np.float32(reward),\n",
    "        discount=discount,\n",
    "        observation=self.get_obs())\n",
    "\n",
    "  def plot_grid(self, add_start=True):\n",
    "    \"\"\"\n",
    "    Helper function to plot GridWorld\n",
    "\n",
    "    Args:\n",
    "      add_start: Boolean\n",
    "        if True, add start/goal positions\n",
    "\n",
    "    Returns:\n",
    "      Nothing\n",
    "    \"\"\"\n",
    "    plt.figure(figsize=(4, 4))\n",
    "    plt.imshow(self._layout <= -1, interpolation='nearest')\n",
    "    ax = plt.gca()\n",
    "    ax.grid(0)\n",
    "    plt.xticks([])\n",
    "    plt.yticks([])\n",
    "    # Add start/goal\n",
    "    if add_start:\n",
    "      plt.text(\n",
    "          self._start_state[1],\n",
    "          self._start_state[0],\n",
    "          r'$\\mathbf{S}$',\n",
    "          fontsize=16,\n",
    "          ha='center',\n",
    "          va='center')\n",
    "    plt.text(\n",
    "        self._goal_state[1],\n",
    "        self._goal_state[0],\n",
    "        r'$\\mathbf{G}$',\n",
    "        fontsize=16,\n",
    "        ha='center',\n",
    "        va='center')\n",
    "    h, w = self._layout.shape\n",
    "    for y in range(h - 1):\n",
    "      plt.plot([-0.5, w - 0.5], [y + 0.5, y + 0.5], '-w', lw=2)\n",
    "    for x in range(w - 1):\n",
    "      plt.plot([x + 0.5, x + 0.5], [-0.5, h - 0.5], '-w', lw=2)\n",
    "\n",
    "  def plot_state(self, return_rgb=False):\n",
    "    \"\"\"\n",
    "    Helper function to plot agent state\n",
    "\n",
    "    Args:\n",
    "      return_rgb: Boolean\n",
    "        if True, process GridWorld with number-of-channels = 3\n",
    "\n",
    "    Returns:\n",
    "      data: np.ndarray\n",
    "        Array of size (h, w, 3) describing environment\n",
    "    \"\"\"\n",
    "    self.plot_grid(add_start=False)\n",
    "    # Add the agent location\n",
    "    plt.text(\n",
    "        self._state[1],\n",
    "        self._state[0],\n",
    "        r'$\\mathbf{A}$',\n",
    "        fontsize=18,\n",
    "        ha='center',\n",
    "        va='center',\n",
    "    )\n",
    "    if return_rgb:\n",
    "      fig = plt.gcf()\n",
    "      plt.axis('tight')\n",
    "      plt.subplots_adjust(0, 0, 1, 1, 0, 0)\n",
    "      fig.canvas.draw()\n",
    "      data = np.fromstring(fig.canvas.tostring_rgb(), dtype=np.uint8, sep='')\n",
    "      w, h = fig.canvas.get_width_height()\n",
    "      data = data.reshape((h, w, 3))\n",
    "      plt.close(fig)\n",
    "      return data\n",
    "\n",
    "  def plot_policy(self, policy):\n",
    "    \"\"\"\n",
    "    Helper function to visualize the policy;\n",
    "\n",
    "    Args:\n",
    "      policy: PolicyGradientNet instance\n",
    "        Describes the principles that govern agent movement\n",
    "\n",
    "    Returns:\n",
    "      Nothing\n",
    "    \"\"\"\n",
    "    action_names = [\n",
    "        r'$\\uparrow$', r'$\\rightarrow$', r'$\\downarrow$', r'$\\leftarrow$'\n",
    "    ]\n",
    "    self.plot_grid()\n",
    "    plt.title('Policy Visualization')\n",
    "    h, w = self._layout.shape\n",
    "    for y in range(h):\n",
    "      for x in range(w):\n",
    "        # if ((y, x) != self._start_state) and ((y, x) != self._goal_state):\n",
    "        if (y, x) != self._goal_state:\n",
    "          action_name = action_names[policy[y, x]]\n",
    "          plt.text(x, y, action_name, ha='center', va='center')\n",
    "\n",
    "\n",
    "def build_gridworld_task(task,\n",
    "                         discount=0.9,\n",
    "                         penalty_for_walls=-5,\n",
    "                         observation_type=ObservationType.STATE_INDEX,\n",
    "                         max_episode_length=200):\n",
    "  \"\"\"\n",
    "  Construct a particular Gridworld layout with start/goal states.\n",
    "\n",
    "  Args:\n",
    "    task: String\n",
    "      String name of the task to use. One of {'simple', 'obstacle',\n",
    "        'random_goal'}.\n",
    "    discount: Float\n",
    "      Discounting factor included in all Timesteps.\n",
    "    penalty_for_walls: Integer\n",
    "      Reward added when hitting a wall (should be negative).\n",
    "    observation_type: Enum O\n",
    "      bservation type to use. One of:\n",
    "        * ObservationType.STATE_INDEX: int32 index of agent occupied tile.\n",
    "        * ObservationType.AGENT_ONEHOT: NxN float32 grid, with a 1 where the\n",
    "          agent is and 0 elsewhere.\n",
    "        * ObservationType.GRID: NxNx3 float32 grid of feature channels.\n",
    "          First channel contains walls (1 if wall, 0 otherwise), second the\n",
    "          agent position (1 if agent, 0 otherwise) and third goal position\n",
    "          (1 if goal, 0 otherwise)\n",
    "        * ObservationType.AGENT_GOAL_POS: float32 tuple with\n",
    "          (agent_y, agent_x, goal_y, goal_x).\n",
    "    max_episode_length: Integer\n",
    "      If set, will terminate an episode after this many steps.\n",
    "\n",
    "  Returns:\n",
    "    Nothing\n",
    "  \"\"\"\n",
    "  tasks_specifications = {\n",
    "      'simple': {\n",
    "          'layout': [\n",
    "              [-1, -1, -1, -1, -1, -1, -1, -1, -1, -1],\n",
    "              [-1, 0, 0, 0, 0, 0, 0, 0, 0, -1],\n",
    "              [-1, 0, 0, 0, -1, -1, 0, 0, 0, -1],\n",
    "              [-1, 0, 0, 0, -1, -1, 0, 0, 0, -1],\n",
    "              [-1, 0, 0, 0, -1, -1, 0, 0, 0, -1],\n",
    "              [-1, 0, 0, 0, 0, 0, 0, 0, 0, -1],\n",
    "              [-1, 0, 0, 0, 0, 0, 0, 0, 0, -1],\n",
    "              [-1, 0, 0, 0, 0, 0, 0, 0, 0, -1],\n",
    "              [-1, -1, -1, -1, -1, -1, -1, -1, -1, -1],\n",
    "          ],\n",
    "          'start_state': (2, 2),\n",
    "          'goal_state': (7, 2)\n",
    "      },\n",
    "      'obstacle': {\n",
    "          'layout': [\n",
    "              [-1, -1, -1, -1, -1, -1, -1, -1, -1, -1],\n",
    "              [-1, 0, 0, 0, 0, 0, -1, 0, 0, -1],\n",
    "              [-1, 0, 0, 0, -1, 0, 0, 0, 0, -1],\n",
    "              [-1, 0, 0, 0, -1, -1, 0, 0, 0, -1],\n",
    "              [-1, 0, 0, 0, -1, -1, 0, 0, 0, -1],\n",
    "              [-1, 0, 0, 0, 0, 0, 0, 0, 0, -1],\n",
    "              [-1, 0, 0, 0, 0, 0, 0, 0, 0, -1],\n",
    "              [-1, 0, 0, 0, 0, 0, 0, 0, 0, -1],\n",
    "              [-1, -1, -1, -1, -1, -1, -1, -1, -1, -1],\n",
    "          ],\n",
    "          'start_state': (2, 2),\n",
    "          'goal_state': (2, 8)\n",
    "      },\n",
    "      'random_goal': {\n",
    "          'layout': [\n",
    "              [-1, -1, -1, -1, -1, -1, -1, -1, -1, -1],\n",
    "              [-1, 0, 0, 0, 0, 0, 0, 0, 0, -1],\n",
    "              [-1, 0, 0, 0, -1, -1, 0, 0, 0, -1],\n",
    "              [-1, 0, 0, 0, -1, -1, 0, 0, 0, -1],\n",
    "              [-1, 0, 0, 0, -1, -1, 0, 0, 0, -1],\n",
    "              [-1, 0, 0, 0, 0, 0, 0, 0, 0, -1],\n",
    "              [-1, 0, 0, 0, 0, 0, 0, 0, 0, -1],\n",
    "              [-1, 0, 0, 0, 0, 0, 0, 0, 0, -1],\n",
    "              [-1, -1, -1, -1, -1, -1, -1, -1, -1, -1],\n",
    "          ],\n",
    "          'start_state': (2, 2),\n",
    "          # 'randomize_goals': True\n",
    "      },\n",
    "  }\n",
    "  return GridWorld(\n",
    "      discount=discount,\n",
    "      penalty_for_walls=penalty_for_walls,\n",
    "      observation_type=observation_type,\n",
    "      max_episode_length=max_episode_length,\n",
    "      **tasks_specifications[task])\n",
    "\n",
    "\n",
    "def setup_environment(environment):\n",
    "  \"\"\"\n",
    "  Returns the environment and its spec.\n",
    "\n",
    "  Args:\n",
    "    environment: acme.wrappers.single_precision.SinglePrecisionWrapper instance\n",
    "      Wrapped environment into single-precision floats [avoids floating point errors]\n",
    "\n",
    "  Returns:\n",
    "    environment: acme.wrappers.single_precision.SinglePrecisionWrapper instance\n",
    "      Wrapped environment into single-precision floats [avoids floating point errors]\n",
    "    environment_spec: acme.specs.EnvironmentSpec(dm_env.specs.Array instance, dm_env.specs.DiscreteArray instance, dm_env.specs.Array instance, dm_env.specs.BoundedArray instance)\n",
    "      Descibes specification of the GridWorld Environment\n",
    "  \"\"\"\n",
    "\n",
    "  # Make sure the environment outputs single-precision floats.\n",
    "  environment = wrappers.SinglePrecisionWrapper(environment)\n",
    "\n",
    "  # Grab the spec of the environment.\n",
    "  environment_spec = specs.make_environment_spec(environment)\n",
    "\n",
    "  return environment, environment_spec"
   ]
  },
  {
   "cell_type": "markdown",
   "metadata": {
    "execution": {}
   },
   "source": [
    "\n",
    "We will use two distinct tabular GridWorlds:\n",
    "* `simple` where the goal is at the bottom left of the grid, little navigation required.\n",
    "* `obstacle` where the goal is behind an obstacle the agent must avoid.\n",
    "\n",
    "You can visualize the grid worlds by running the cell below. \n",
    "\n",
    "Note that **S** indicates the start state and **G** indicates the goal. \n"
   ]
  },
  {
   "cell_type": "markdown",
   "metadata": {},
   "source": [
    "###  Visualise GridWorlds\n"
   ]
  },
  {
   "cell_type": "code",
   "execution_count": null,
   "metadata": {
    "cellView": "form",
    "execution": {},
    "tags": [
     "hide-input"
    ]
   },
   "outputs": [],
   "source": [
    "# @title Visualise GridWorlds\n",
    "\n",
    "# Instantiate two tabular environments, a simple task, and one that involves\n",
    "# the avoidance of an obstacle.\n",
    "simple_grid = build_gridworld_task(\n",
    "    task='simple', observation_type=ObservationType.GRID)\n",
    "obstacle_grid = build_gridworld_task(\n",
    "    task='obstacle', observation_type=ObservationType.GRID)\n",
    "\n",
    "# Plot them.\n",
    "simple_grid.plot_grid()\n",
    "plt.title('Simple')\n",
    "\n",
    "obstacle_grid.plot_grid()\n",
    "plt.title('Obstacle')\n",
    "plt.show()"
   ]
  },
  {
   "cell_type": "markdown",
   "metadata": {
    "execution": {}
   },
   "source": [
    "In this environment, the agent has four possible  <font color='blue'>**actions**</font>: `up`, `right`, `down`, and `left`.  The <font color='green'>**reward**</font> is `-5` for bumping into a wall, `+10` for reaching the goal, and `0` otherwise. The episode ends when the agent reaches the goal, and otherwise continues. The **discount** on continuing steps, is $\\gamma = 0.9$. \n",
    "\n",
    "Before we start building an agent to interact with this environment, let's first look at the types of objects the environment either returns (e.g., <font color='redorange'>**observations**</font>) or consumes (e.g., <font color='blue'>**actions**</font>). The `environment_spec` will show you the form of the <font color='redorange'>**observations**</font>, <font color='green'>**rewards**</font> and **discounts** that the environment exposes and the form of the <font color='blue'>**actions**</font> that can be taken.\n"
   ]
  },
  {
   "cell_type": "markdown",
   "metadata": {},
   "source": [
    "###  Look at `environment_spec`\n"
   ]
  },
  {
   "cell_type": "markdown",
   "metadata": {},
   "source": [
    " ##### **Note:** `setup_environment` is implemented in the same cell as GridWorld.\n"
   ]
  },
  {
   "cell_type": "code",
   "execution_count": null,
   "metadata": {
    "cellView": "form",
    "execution": {},
    "tags": [
     "hide-input"
    ]
   },
   "outputs": [],
   "source": [
    "# @title Look at `environment_spec`\n",
    "\n",
    "# @markdown ##### **Note:** `setup_environment` is implemented in the same cell as GridWorld.\n",
    "environment, environment_spec = setup_environment(simple_grid)\n",
    "\n",
    "print('actions:\\n', environment_spec.actions, '\\n')\n",
    "print('observations:\\n', environment_spec.observations, '\\n')\n",
    "print('rewards:\\n', environment_spec.rewards, '\\n')\n",
    "print('discounts:\\n', environment_spec.discounts, '\\n')"
   ]
  },
  {
   "cell_type": "markdown",
   "metadata": {
    "execution": {}
   },
   "source": [
    "\n",
    "We first set the environment to its initial state by calling the `reset()` method which returns the first observation and resets the agent to the starting location.\n"
   ]
  },
  {
   "cell_type": "code",
   "execution_count": null,
   "metadata": {
    "execution": {}
   },
   "outputs": [],
   "source": [
    "environment.reset()\n",
    "environment.plot_state()"
   ]
  },
  {
   "cell_type": "markdown",
   "metadata": {
    "execution": {}
   },
   "source": [
    "Note that **A** indicates the agent's location.\n",
    "\n",
    "Now we want to take an action to interact with the environment. We do this by passing a valid action to the `dm_env.Environment.step()` method which returns a `dm_env.TimeStep` namedtuple with fields `(step_type, reward, discount, observation)`.\n",
    "\n",
    "Let's take an action and visualise the resulting state of the grid-world. (You'll need to rerun the cell if you pick a new action.)"
   ]
  },
  {
   "cell_type": "markdown",
   "metadata": {
    "execution": {}
   },
   "source": [
    "**Note for kaggle users:** As Kaggle does not render the forms automatically the students should be careful to notice the various instructions and manually play around with the values for the variables"
   ]
  },
  {
   "cell_type": "markdown",
   "metadata": {},
   "source": [
    "###  Pick an action and see the state changing\n"
   ]
  },
  {
   "cell_type": "code",
   "execution_count": null,
   "metadata": {
    "cellView": "form",
    "execution": {},
    "tags": [
     "hide-input"
    ]
   },
   "outputs": [],
   "source": [
    "# @title Pick an action and see the state changing\n",
    "action = \"down\" #@param [\"up\", \"right\", \"down\", \"left\"] {type:\"string\"}\n",
    "\n",
    "action_int = {'up': 0,\n",
    "              'right': 1,\n",
    "              'down': 2,\n",
    "              'left':3 }\n",
    "action = int(action_int[action])\n",
    "timestep = environment.step(action)  # pytype: dm_env.TimeStep\n",
    "environment.plot_state()"
   ]
  },
  {
   "cell_type": "markdown",
   "metadata": {},
   "source": [
    "###  Run loop\n"
   ]
  },
  {
   "cell_type": "code",
   "execution_count": null,
   "metadata": {
    "cellView": "form",
    "execution": {},
    "tags": [
     "hide-input"
    ]
   },
   "outputs": [],
   "source": [
    "# @title Run loop\n",
    "\n",
    "# @markdown ##### This function runs an agent in the environment for a number of episodes, allowing it to learn.\n",
    "\n",
    "# @markdown ##### *Double-click* to inspect the `run_loop` function.\n",
    "\n",
    "\n",
    "def run_loop(environment,\n",
    "             agent,\n",
    "             num_episodes=None,\n",
    "             num_steps=None,\n",
    "             logger_time_delta=1.,\n",
    "             label='training_loop',\n",
    "             log_loss=False,\n",
    "             ):\n",
    "  \"\"\"\n",
    "  Perform the Acme run loop.\n",
    "  Run the environment loop for `num_episodes` episodes. Each episode is itself\n",
    "  a loop which interacts first with the environment to get an observation and\n",
    "  then give that observation to the agent in order to retrieve an action. Upon\n",
    "  termination of an episode a new episode will be started. If the number of\n",
    "  episodes is not given then this will interact with the environment\n",
    "  infinitely.\n",
    "\n",
    "  Args:\n",
    "    environment: dm_env\n",
    "      Used to generate trajectories.\n",
    "    agent: acme.Actor\n",
    "      For selecting actions in the run loop.\n",
    "    num_steps: Integer\n",
    "      Number of steps to run the loop for. If `None` (default), runs\n",
    "      without limit.\n",
    "    num_episodes: Integer\n",
    "      Nmber of episodes to run the loop for. If `None` (default),\n",
    "      runs without limit.\n",
    "    logger_time_delta: Float\n",
    "      Time interval (in seconds) between consecutive logging steps.\n",
    "    label: String\n",
    "      Optional label used at logging steps.\n",
    "    log_loss: Boolean\n",
    "      If true, log_loss function is used to compute loss\n",
    "      Else, use raw loss function\n",
    "\n",
    "  Returns:\n",
    "    all_returns: List\n",
    "      Log of return per episode\n",
    "  \"\"\"\n",
    "  logger = loggers.TerminalLogger(label=label, time_delta=logger_time_delta)\n",
    "  iterator = range(num_episodes) if num_episodes else itertools.count()\n",
    "  all_returns = []\n",
    "\n",
    "  num_total_steps = 0\n",
    "  for episode in iterator:\n",
    "    # Reset any counts and start the environment.\n",
    "    start_time = time.time()\n",
    "    episode_steps = 0\n",
    "    episode_return = 0\n",
    "    episode_loss = 0\n",
    "\n",
    "    timestep = environment.reset()\n",
    "\n",
    "    # Make the first observation.\n",
    "    agent.observe_first(timestep)\n",
    "\n",
    "    # Run an episode.\n",
    "    while not timestep.last():\n",
    "      # Generate an action from the agent's policy and step the environment.\n",
    "      action = agent.select_action(timestep.observation)\n",
    "      timestep = environment.step(action)\n",
    "\n",
    "      # Have the agent observe the timestep and let the agent update itself.\n",
    "      agent.observe(action, next_timestep=timestep)\n",
    "      agent.update()\n",
    "\n",
    "      # Book-keeping.\n",
    "      episode_steps += 1\n",
    "      num_total_steps += 1\n",
    "      episode_return += timestep.reward\n",
    "\n",
    "      if log_loss:\n",
    "        episode_loss += agent.last_loss\n",
    "\n",
    "      if num_steps is not None and num_total_steps >= num_steps:\n",
    "        break\n",
    "\n",
    "    # Collect the results and combine with counts.\n",
    "    steps_per_second = episode_steps / (time.time() - start_time)\n",
    "    result = {\n",
    "        'episode': episode,\n",
    "        'episode_length': episode_steps,\n",
    "        'episode_return': episode_return,\n",
    "    }\n",
    "    if log_loss:\n",
    "      result['loss_avg'] = episode_loss/episode_steps\n",
    "\n",
    "    all_returns.append(episode_return)\n",
    "\n",
    "    # Log the given results.\n",
    "    logger.write(result)\n",
    "\n",
    "    if num_steps is not None and num_total_steps >= num_steps:\n",
    "      break\n",
    "  return all_returns"
   ]
  },
  {
   "cell_type": "markdown",
   "metadata": {},
   "source": [
    "###  Implement the evaluation loop\n"
   ]
  },
  {
   "cell_type": "code",
   "execution_count": null,
   "metadata": {
    "cellView": "form",
    "execution": {},
    "tags": [
     "hide-input"
    ]
   },
   "outputs": [],
   "source": [
    "# @title Implement the evaluation loop\n",
    "\n",
    "# @markdown ##### This function runs the agent in the environment for a number of episodes, without allowing it to learn, in order to evaluate it.\n",
    "\n",
    "# @markdown ##### *Double-click* to inspect the `evaluate` function.\n",
    "\n",
    "def evaluate(environment: dm_env.Environment,\n",
    "             agent: acme.Actor,\n",
    "             evaluation_episodes: int):\n",
    "  \"\"\"\n",
    "  Helper function to run evaluation loop\n",
    "\n",
    "  Args:\n",
    "    environment: dm_env\n",
    "      Used to generate trajectories.\n",
    "    agent: acme.Actor\n",
    "      For selecting actions in the run loop.\n",
    "    evaluation_episodes: Integer\n",
    "      Number of episodes for which evaluation loop is to be run for.\n",
    "\n",
    "  Returns:\n",
    "    frames: List\n",
    "      Log of environment state for each time step.\n",
    "  \"\"\"\n",
    "  frames = []\n",
    "\n",
    "  for episode in range(evaluation_episodes):\n",
    "    timestep = environment.reset()\n",
    "    episode_return = 0\n",
    "    steps = 0\n",
    "    while not timestep.last():\n",
    "      frames.append(environment.plot_state(return_rgb=True))\n",
    "\n",
    "      action = agent.select_action(timestep.observation)\n",
    "      timestep = environment.step(action)\n",
    "      steps += 1\n",
    "      episode_return += timestep.reward\n",
    "    print(\n",
    "        f'Episode {episode} ended with reward {episode_return} in {steps} steps'\n",
    "    )\n",
    "  return frames\n",
    "\n",
    "\n",
    "def display_video(frames: Sequence[np.ndarray],\n",
    "                  filename: str = 'temp.mp4',\n",
    "                  frame_rate: int = 12):\n",
    "  \"\"\"\n",
    "  Save and render video.\n",
    "\n",
    "  Args:\n",
    "    frames: Sequence[np.ndarray]\n",
    "      Log of environment state for each time step.\n",
    "    filename: String\n",
    "      Name for the video file generated\n",
    "    frame_rate: Integer\n",
    "      Specifies frequency at which frames are displayed.\n",
    "\n",
    "  Returns:\n",
    "    IPython.display.HTML(video_tag)\n",
    "  \"\"\"\n",
    "  # Write the frames to a video.\n",
    "  with imageio.get_writer(filename, fps=frame_rate) as video:\n",
    "    for frame in frames:\n",
    "      video.append_data(frame)\n",
    "\n",
    "  # Read video and display the video.\n",
    "  video = open(filename, 'rb').read()\n",
    "  b64_video = base64.b64encode(video)\n",
    "  video_tag = ('<video  width=\"320\" height=\"240\" controls alt=\"test\" '\n",
    "               'src=\"data:video/mp4;base64,{0}\">').format(b64_video.decode())\n",
    "  return IPython.display.HTML(video_tag)"
   ]
  },
  {
   "cell_type": "markdown",
   "metadata": {
    "execution": {}
   },
   "source": [
    "---\n",
    "# Section 1: Function Approximation\n",
    "\n",
    "*Time estimate: ~25mins*"
   ]
  },
  {
   "cell_type": "markdown",
   "metadata": {},
   "source": [
    "##  Video 1: Function approximation\n"
   ]
  },
  {
   "cell_type": "code",
   "execution_count": null,
   "metadata": {
    "cellView": "form",
    "execution": {},
    "tags": [
     "remove-input"
    ]
   },
   "outputs": [],
   "source": [
    "# @title Video 1: Function approximation\n",
    "from ipywidgets import widgets\n",
    "\n",
    "out2 = widgets.Output()\n",
    "with out2:\n",
    "  from IPython.display import IFrame\n",
    "  class BiliVideo(IFrame):\n",
    "    def __init__(self, id, page=1, width=400, height=300, **kwargs):\n",
    "      self.id=id\n",
    "      src = \"https://player.bilibili.com/player.html?bvid={0}&page={1}\".format(id, page)\n",
    "      super(BiliVideo, self).__init__(src, width, height, **kwargs)\n",
    "\n",
    "  video = BiliVideo(id=f\"BV1sg411M7cn\", width=730, height=410, fs=1)\n",
    "  print(\"Video available at https://www.bilibili.com/video/{0}\".format(video.id))\n",
    "  display(video)\n",
    "\n",
    "out1 = widgets.Output()\n",
    "with out1:\n",
    "  from IPython.display import YouTubeVideo\n",
    "  video = YouTubeVideo(id=f\"7_MYePyYhrM\", width=730, height=410, fs=1, rel=0)\n",
    "  print(\"Video available at https://youtube.com/watch?v=\" + video.id)\n",
    "  display(video)\n",
    "\n",
    "out = widgets.Tab([out1, out2])\n",
    "out.set_title(0, 'Youtube')\n",
    "out.set_title(1, 'Bilibili')\n",
    "\n",
    "display(out)"
   ]
  },
  {
   "cell_type": "markdown",
   "metadata": {
    "execution": {}
   },
   "source": [
    "<center><img src=\"https://raw.githubusercontent.com/NeuromatchAcademy/course-content-dl/main/tutorials/W3D4_BasicReinforcementLearning/static/fm_RL_loop.png\" width=\"500\" /></center>\n",
    "\n",
    "So far we only considered look-up tables for value-functions. In all previous cases every state and action pair $(\\color{red}{s}, \\color{blue}{a})$, had an entry in our $\\color{green}Q$-table. Again, this is possible in this environment as the number of states is equal to the number of cells in the grid. But this is not scalable to situations where, say, the goal location changes or the obstacles are in different locations at every episode (consider how big the table could be in this situation?).\n",
    "\n",
    "An example (not covered in this tutorial) is ATARI from pixels, where the number of possible frames an agent can see is exponential in the number of pixels on the screen.\n",
    "\n",
    "<center><img width=\"200\" alt=\"portfolio_view\" src=\"https://raw.githubusercontent.com/NeuromatchAcademy/course-content-dl/main/tutorials/W3D4_BasicReinforcementLearning/static/atari_pixels.gif\"></center>\n",
    "\n",
    "But what we **really** want is just to be able to *compute* the Q-value, when fed with a particular $(\\color{red}{s}, \\color{blue}{a})$ pair. So if we had a way to get a function to do this work instead of keeping a big table, we'd get around this problem.\n",
    "\n",
    "To address this, we can use **function approximation** as a way to generalize Q-values over some representation of the very large state space, and **train** them to output the values they should. In this section, we will explore $\\color{green}Q$-learning with function approximation, which (although it has been theoretically proven to diverge for some degenerate MDPs) can yield impressive results in very large environments. In particular, we will look at [Neural Fitted Q (NFQ) Iteration](http://ml.informatik.uni-freiburg.de/former/_media/publications/rieecml05.pdf) and [Deep Q-Networks (DQN)](https://www.cs.toronto.edu/~vmnih/docs/dqn.pdf).\n",
    "\n"
   ]
  },
  {
   "cell_type": "markdown",
   "metadata": {
    "execution": {}
   },
   "source": [
    "## Section 1.1 Replay Buffers\n",
    "\n",
    "An important property of off-policy methods like $\\color{green}Q$-learning is that they involve two policies: one for exploration and one that is being optimized (via the $\\color{green}Q$-function updates). This means that we can generate data from the **behavior** policy and insert that data into some form of data storage---usually referred to as **replay**.\n",
    "\n",
    "In order to optimize the $\\color{green}Q$-function we can then sample data from the replay <font color='purple'>**dataset**</font> and use that data to perform an update. An illustration of this learning loop is shown below.\n",
    "\n",
    "<center><img src=\"https://raw.githubusercontent.com/NeuromatchAcademy/course-content-dl/main/tutorials/W3D4_BasicReinforcementLearning/static/agent_loop.png\" width=\"400\" /></center> \n",
    "\n",
    "In the next cell we will show how to implement a simple replay buffer. This can be as simple as a python list containing transition data. In more complicated scenarios we might want to have a more performance-tuned variant, we might have to be more concerned about how large replay is and what to do when its full, and we might want to sample from replay in different ways. But a simple python list can go a surprisingly long way."
   ]
  },
  {
   "cell_type": "code",
   "execution_count": null,
   "metadata": {
    "execution": {}
   },
   "outputs": [],
   "source": [
    "# Simple replay buffer\n",
    "\n",
    "# Create a convenient container for the SARSA tuples required by deep RL agents.\n",
    "Transitions = collections.namedtuple(\n",
    "    'Transitions', ['state', 'action', 'reward', 'discount', 'next_state'])\n",
    "\n",
    "class ReplayBuffer(object):\n",
    "  \"\"\"\n",
    "  A simple Python Replay Buffer.\n",
    "  Queue based implementation.\n",
    "  \"\"\"\n",
    "\n",
    "  def __init__(self, capacity: int = None):\n",
    "    self.buffer = collections.deque(maxlen=capacity)\n",
    "    self._prev_state = None\n",
    "\n",
    "  def add_first(self, initial_timestep: dm_env.TimeStep):\n",
    "    self._prev_state = initial_timestep.observation\n",
    "\n",
    "  def add(self, action: int, timestep: dm_env.TimeStep):\n",
    "    transition = Transitions(\n",
    "        state=self._prev_state,\n",
    "        action=action,\n",
    "        reward=timestep.reward,\n",
    "        discount=timestep.discount,\n",
    "        next_state=timestep.observation,\n",
    "    )\n",
    "    self.buffer.append(transition)\n",
    "    self._prev_state = timestep.observation\n",
    "\n",
    "  def sample(self, batch_size: int) -> Transitions:\n",
    "    # Sample a random batch of Transitions as a list.\n",
    "    batch_as_list = random.sample(self.buffer, batch_size)\n",
    "\n",
    "    # Convert the list of `batch_size` Transitions into a single Transitions\n",
    "    # object where each field has `batch_size` stacked fields.\n",
    "    return tree_utils.stack_sequence_fields(batch_as_list)\n",
    "\n",
    "  def flush(self) -> Transitions:\n",
    "    entire_buffer = tree_utils.stack_sequence_fields(self.buffer)\n",
    "    self.buffer.clear()\n",
    "    return entire_buffer\n",
    "\n",
    "  def is_ready(self, batch_size: int) -> bool:\n",
    "    return batch_size <= len(self.buffer)"
   ]
  },
  {
   "cell_type": "markdown",
   "metadata": {
    "execution": {}
   },
   "source": [
    "## Section 1.2: NFQ Agent\n",
    "\n",
    "[Neural Fitted Q Iteration](http://ml.informatik.uni-freiburg.de/former/_media/publications/rieecml05.pdf) was one of the first papers to demonstrate how to leverage recent advances in Deep Learning to approximate the Q-value by a neural network$^\\dagger$. In other words, the value $\\color{green}Q(\\color{red}{s}, \\color{blue}{a})$ are approximated by the output of a neural network $\\color{green}{Q_w}(\\color{red}{s}, \\color{blue}{a})$ for each possible action $\\color{blue}{a} \\in \\color{blue}{\\mathcal{A}}$$^\\ddagger$.\n",
    "\n",
    "When introducing function approximations, and neural networks in particular, we need to have a loss to optimize. But looking back at the tabular setting above, you can see that we already have some notion of error: the **TD error**.\n",
    "\n",
    "By training our neural network to output values such that the *TD error is minimized*, we will also satisfy the Bellman Optimality Equation, which is a good sufficient condition to enforce, to obtain an optimal policy.\n",
    "Thanks to automatic differentiation, we can just write the TD error as a loss, e.g., with an $\\ell^2$ loss, but others would work too:\n",
    "\n",
    "\\begin{equation}\n",
    "L(\\color{green}w) = \\mathbb{E}\\left[ \\left( \\color{green}{r} + \\gamma \\max_\\color{blue}{a'} \\color{green}{Q_w}(\\color{red}{s'}, \\color{blue}{a'}) \\hat{\\alpha}' \\color{green}{Q_w}(\\color{red}{s}, \\color{blue}{a})  \\right)^2\\right].\n",
    "\\end{equation}\n",
    "\n",
    "Then we can compute the gradient with respect to the parameters of the neural network and improve our Q-value approximation incrementally.\n",
    "\n",
    "NFQ builds on $\\color{green}Q$-learning, but if one were to update the Q-values online directly, the training can be unstable and very slow. Instead, NFQ uses a replay buffer, similar to what we see implemented above, to update the Q-value in a batched setting.\n",
    "\n",
    "When it was introduced, it also was entirely off-policy using a uniformly random policy to collect data, which was prone to instability when applied to more complex environments (e.g., when the input are pixels or the tasks are longer and more complicated).\n",
    "\n",
    "But it is a good stepping stone to the more complex agents used today. Here, we will look at a slightly different and modernised implementation of NFQ.\n",
    "\n",
    "Below you will find an incomplete NFQ agent that takes in observations from a gridworld. Instead of receiving a tabular state, it receives an observation in the form of its $(x,y)$ coordinates in the gridworld, and the $(x,y)$ coordinates of the goal.\n",
    "<br>\n",
    "\n",
    "The goal of this coding exercise is to complete this agent by implementing the loss, using mean squared error.\n",
    "\n",
    "<br>\n",
    "\n",
    "---\n",
    "\n",
    "<sub>$^\\dagger$ If you read the NFQ paper, they use a \"control\" notation, where there is a \"cost to minimize\", instead of \"rewards to maximize\", so don't be surprised if signs/max/min do not correspond.</sub>\n",
    "\n",
    "<sub>$^\\ddagger$ We could feed it $\\color{blue}{a}$ as well and ask $Q_w$ for a single scalar value, but given we have a fixed number of actions and we usually need to take an $argmax$ over them, it's easiest to just output them all in one pass.</sub>"
   ]
  },
  {
   "cell_type": "markdown",
   "metadata": {
    "execution": {}
   },
   "source": [
    "### Coding Exercise 1.1: Implement NFQ"
   ]
  },
  {
   "cell_type": "code",
   "execution_count": null,
   "metadata": {
    "execution": {}
   },
   "outputs": [],
   "source": [
    "# Create a convenient container for the SARS tuples required by NFQ.\n",
    "Transitions = collections.namedtuple(\n",
    "    'Transitions', ['state', 'action', 'reward', 'discount', 'next_state'])\n",
    "\n",
    "\n",
    "class NeuralFittedQAgent(acme.Actor):\n",
    "  \"\"\"\n",
    "  Implementation of a Neural Fitted Agent\n",
    "  \"\"\"\n",
    "\n",
    "  def __init__(self,\n",
    "               environment_spec: specs.EnvironmentSpec,\n",
    "               q_network: nn.Module,\n",
    "               replay_capacity: int = 100_000,\n",
    "               epsilon: float = 0.1,\n",
    "               batch_size: int = 1,\n",
    "               learning_rate: float = 3e-4):\n",
    "    \"\"\"\n",
    "    Neural Fitted Agent Initialisation\n",
    "\n",
    "    Args:\n",
    "      environment_spec: specs.EnvironmentSpec\n",
    "        * actions: DiscreteArray(shape=(), dtype=int32, name=action, minimum=0, maximum=3, num_values=4)\n",
    "        * observations: Array(shape=(9, 10, 3), dtype=dtype('float32'), name='observation_grid')\n",
    "        * rewards: Array(shape=(), dtype=dtype('float32'), name='reward')\n",
    "        * discounts: BoundedArray(shape=(), dtype=dtype('float32'), name='discount', minimum=0.0, maximum=1.0)\n",
    "      q_network: nn.Module,\n",
    "        Q Network\n",
    "      replay_capacity: int,\n",
    "        Capacity of the replay buffer [default: 100000]\n",
    "      epsilon: float\n",
    "        Controls the exploration-exploitation tradeoff\n",
    "      batch_size: int\n",
    "        Batch Size [default = 1]\n",
    "      learning_rate: float\n",
    "        Rate at which the neural fitted agent learns [default = 3e-4]\n",
    "\n",
    "    Returns:\n",
    "      Nothing\n",
    "    \"\"\"\n",
    "    # Store agent hyperparameters and network.\n",
    "    self._num_actions = environment_spec.actions.num_values\n",
    "    self._epsilon = epsilon\n",
    "    self._batch_size = batch_size\n",
    "    self._q_network = q_network\n",
    "\n",
    "    # Container for the computed loss (see run_loop implementation above).\n",
    "    self.last_loss = 0.0\n",
    "\n",
    "    # Create the replay buffer.\n",
    "    self._replay_buffer = ReplayBuffer(replay_capacity)\n",
    "\n",
    "    # Setup optimizer that will train the network to minimize the loss.\n",
    "    self._optimizer = torch.optim.Adam(self._q_network.parameters(), lr=learning_rate)\n",
    "    self._loss_fn = nn.MSELoss()\n",
    "\n",
    "  def select_action(self, observation):\n",
    "    \"\"\"\n",
    "    Chooses epsilon-greedy action\n",
    "\n",
    "    Args:\n",
    "      observation: enum\n",
    "        * ObservationType.STATE_INDEX: int32 index of agent occupied tile.\n",
    "        * ObservationType.AGENT_ONEHOT: NxN float32 grid, with a 1 where the\n",
    "          agent is and 0 elsewhere.\n",
    "        * ObservationType.GRID: NxNx3 float32 grid of feature channels.\n",
    "          First channel contains walls (1 if wall, 0 otherwise), second the\n",
    "          agent position (1 if agent, 0 otherwise) and third goal position\n",
    "          (1 if goal, 0 otherwise)\n",
    "        * ObservationType.AGENT_GOAL_POS: float32 tuple with\n",
    "          (agent_y, agent_x, goal_y, goal_x)\n",
    "\n",
    "\n",
    "    Returns:\n",
    "      action: Integer\n",
    "        Chosen action based on epsilon-greedy policy\n",
    "    \"\"\"\n",
    "    # Compute Q-values.\n",
    "    q_values = self._q_network(torch.tensor(observation).unsqueeze(0))  # Adds batch dimension.\n",
    "    q_values = q_values.squeeze(0)  # Removes batch dimension\n",
    "\n",
    "    # Select epsilon-greedy action.\n",
    "    if self._epsilon < torch.rand(1):\n",
    "      action = q_values.argmax(axis=-1)\n",
    "    else:\n",
    "      action = torch.randint(low=0, high=self._num_actions, size=(1, ), dtype=torch.int64).squeeze()\n",
    "    return action\n",
    "\n",
    "  def q_values(self, observation):\n",
    "    q_values = self._q_network(torch.tensor(observation).unsqueeze(0))\n",
    "    return q_values.squeeze(0).detach()\n",
    "\n",
    "  def update(self):\n",
    "    \"\"\"\n",
    "    Updates replay buffer\n",
    "\n",
    "    Args:\n",
    "      None\n",
    "\n",
    "    Returns:\n",
    "      Nothing\n",
    "    \"\"\"\n",
    "    if not self._replay_buffer.is_ready(self._batch_size):\n",
    "      # If the replay buffer is not ready to sample from, do nothing.\n",
    "      return\n",
    "\n",
    "    # Sample a minibatch of transitions from experience replay.\n",
    "    transitions = self._replay_buffer.sample(self._batch_size)\n",
    "\n",
    "    # Note: each of these tensors will be of shape [batch_size, ...].\n",
    "    s = torch.tensor(transitions.state)\n",
    "    a = torch.tensor(transitions.action)\n",
    "    r = torch.tensor(transitions.reward)\n",
    "    d = torch.tensor(transitions.discount)\n",
    "    next_s = torch.tensor(transitions.next_state)\n",
    "\n",
    "    # Compute the Q-values at next states in the transitions.\n",
    "    with torch.no_grad():\n",
    "      q_next_s = self._q_network(next_s)  # Shape [batch_size, num_actions].\n",
    "      max_q_next_s = q_next_s.max(axis=-1)[0]\n",
    "      # Compute the TD error and then the losses.\n",
    "      target_q_value = r + d * max_q_next_s\n",
    "\n",
    "    # Compute the Q-values at original state.\n",
    "    q_s = self._q_network(s)\n",
    "\n",
    "    # Gather the Q-value corresponding to each action in the batch.\n",
    "    q_s_a = q_s.gather(1, a.view(-1, 1)).squeeze(0)\n",
    "    #################################################\n",
    "    # Fill in missing code below (...),\n",
    "    # then remove or comment the line below to test your implementation\n",
    "    raise NotImplementedError(\"Student exercise: complete the NFQ Agent\")\n",
    "    #################################################\n",
    "    # TODO Average the squared TD errors over the entire batch using\n",
    "    # self._loss_fn, which is defined above as nn.MSELoss()\n",
    "    # HINT: Take a look at the reference for nn.MSELoss here:\n",
    "    #  https://pytorch.org/docs/stable/generated/torch.nn.MSELoss.html\n",
    "    #  What should you put for the input and the target?\n",
    "    loss = ...\n",
    "\n",
    "    # Compute the gradients of the loss with respect to the q_network variables.\n",
    "    self._optimizer.zero_grad()\n",
    "\n",
    "    loss.backward()\n",
    "    # Apply the gradient update.\n",
    "    self._optimizer.step()\n",
    "\n",
    "    # Store the loss for logging purposes (see run_loop implementation above).\n",
    "    self.last_loss = loss.detach().numpy()\n",
    "\n",
    "  def observe_first(self, timestep: dm_env.TimeStep):\n",
    "    self._replay_buffer.add_first(timestep)\n",
    "\n",
    "  def observe(self, action: int, next_timestep: dm_env.TimeStep):\n",
    "    self._replay_buffer.add(action, next_timestep)"
   ]
  },
  {
   "cell_type": "markdown",
   "metadata": {
    "colab_type": "text",
    "execution": {}
   },
   "source": [
    "[*Click for solution*](https://github.com/NeuromatchAcademy/course-content-dl/tree/main//tutorials/W3D4_BasicReinforcementLearning/solutions/W3D4_Tutorial5_Solution_01e4c25b.py)\n",
    "\n"
   ]
  },
  {
   "cell_type": "markdown",
   "metadata": {
    "execution": {}
   },
   "source": [
    "### Train and Evaluate the NFQ Agent"
   ]
  },
  {
   "cell_type": "markdown",
   "metadata": {},
   "source": [
    "####  Training the NFQ Agent\n"
   ]
  },
  {
   "cell_type": "code",
   "execution_count": null,
   "metadata": {
    "cellView": "form",
    "execution": {},
    "tags": [
     "hide-input"
    ]
   },
   "outputs": [],
   "source": [
    "# @title Training the NFQ Agent\n",
    "epsilon = 0.6 # @param {type:\"number\"}\n",
    "\n",
    "max_episode_length = 200\n",
    "\n",
    "# Create the environment.\n",
    "grid = build_gridworld_task(\n",
    "    task='simple',\n",
    "    observation_type=ObservationType.AGENT_GOAL_POS,\n",
    "    max_episode_length=max_episode_length)\n",
    "environment, environment_spec = setup_environment(grid)\n",
    "\n",
    "# Define the neural function approximator (aka Q network).\n",
    "q_network = nn.Sequential(nn.Linear(4, 50),\n",
    "                          nn.ReLU(),\n",
    "                          nn.Linear(50, 50),\n",
    "                          nn.ReLU(),\n",
    "                          nn.Linear(50, environment_spec.actions.num_values))\n",
    "\n",
    "# Build the trainable Q-learning agent\n",
    "agent = NeuralFittedQAgent(\n",
    "    environment_spec,\n",
    "    q_network,\n",
    "    epsilon=epsilon,\n",
    "    replay_capacity=100_000,\n",
    "    batch_size=10,\n",
    "    learning_rate=1e-3)\n",
    "\n",
    "returns = run_loop(\n",
    "    environment=environment,\n",
    "    agent=agent,\n",
    "    num_episodes=500,\n",
    "    logger_time_delta=1.,\n",
    "    log_loss=True)"
   ]
  },
  {
   "cell_type": "markdown",
   "metadata": {},
   "source": [
    "####  Evaluating the agent (set $\\epsilon=0$)\n"
   ]
  },
  {
   "cell_type": "markdown",
   "metadata": {},
   "source": [
    " ##### Temporarily change epsilon to be more greedy; remember to change it back.\n"
   ]
  },
  {
   "cell_type": "code",
   "execution_count": null,
   "metadata": {
    "cellView": "form",
    "execution": {},
    "tags": [
     "hide-input"
    ]
   },
   "outputs": [],
   "source": [
    "# @title Evaluating the agent (set $\\epsilon=0$)\n",
    "# @markdown ##### Temporarily change epsilon to be more greedy; remember to change it back.\n",
    "\n",
    "agent._epsilon = 0.0\n",
    "\n",
    "# Record a few episodes.\n",
    "frames = evaluate(environment, agent, evaluation_episodes=5)\n",
    "\n",
    "# Change epsilon back.\n",
    "agent._epsilon = epsilon\n",
    "\n",
    "# Display the video of the episodes.\n",
    "display_video(frames, frame_rate=6)"
   ]
  },
  {
   "cell_type": "markdown",
   "metadata": {},
   "source": [
    "####  Visualise the learned $Q$ values\n"
   ]
  },
  {
   "cell_type": "markdown",
   "metadata": {},
   "source": [
    " ##### Evaluate the policy for every state, similar to tabular agents above.\n"
   ]
  },
  {
   "cell_type": "code",
   "execution_count": null,
   "metadata": {
    "cellView": "form",
    "execution": {},
    "tags": [
     "hide-input"
    ]
   },
   "outputs": [],
   "source": [
    "# @title Visualise the learned $Q$ values\n",
    "\n",
    "# @markdown ##### Evaluate the policy for every state, similar to tabular agents above.\n",
    "\n",
    "environment.reset()\n",
    "pi = np.zeros(grid._layout_dims, dtype=np.int32)\n",
    "q = np.zeros(grid._layout_dims + (4, ))\n",
    "for y in range(grid._layout_dims[0]):\n",
    "  for x in range(grid._layout_dims[1]):\n",
    "    # Hack observation to see what the Q-network would output at that point.\n",
    "    environment.set_state(x, y)\n",
    "    obs = environment.get_obs()\n",
    "    q[y, x] = np.asarray(agent.q_values(obs))\n",
    "    pi[y, x] = np.asarray(agent.select_action(obs))\n",
    "\n",
    "plot_action_values(q)"
   ]
  },
  {
   "cell_type": "markdown",
   "metadata": {
    "execution": {}
   },
   "source": [
    "Compare the Q-values approximated with the neural network with the tabular case. Notice how the neural network is generalizing from the visited states to the unvisited similar states, while in the tabular case we updated the value of each state only when we visited that state."
   ]
  },
  {
   "cell_type": "markdown",
   "metadata": {
    "execution": {}
   },
   "source": [
    "### Compare the greedy and behaviour ($\\epsilon$-greedy) policies"
   ]
  },
  {
   "cell_type": "markdown",
   "metadata": {},
   "source": [
    "####  Compare the greedy policy with the agent's policy\n"
   ]
  },
  {
   "cell_type": "markdown",
   "metadata": {},
   "source": [
    " ##### Notice that the agent's behavior policy has a lot more randomness, due to the high $\\epsilon$. However, the greedy policy that's learned is optimal.\n"
   ]
  },
  {
   "cell_type": "code",
   "execution_count": null,
   "metadata": {
    "cellView": "form",
    "execution": {},
    "tags": [
     "hide-input"
    ]
   },
   "outputs": [],
   "source": [
    "# @title Compare the greedy policy with the agent's policy\n",
    "\n",
    "# @markdown ##### Notice that the agent's behavior policy has a lot more randomness, due to the high $\\epsilon$. However, the greedy policy that's learned is optimal.\n",
    "\n",
    "environment.plot_greedy_policy(q)\n",
    "plt.figtext(-.08, .95, 'Greedy policy using the learnt Q-values')\n",
    "plt.title('')\n",
    "plt.show()\n",
    "\n",
    "environment.plot_policy(pi)\n",
    "plt.figtext(-.08, .95, \"Policy using the agent's behavior policy\")\n",
    "plt.title('')\n",
    "plt.show()"
   ]
  },
  {
   "cell_type": "markdown",
   "metadata": {
    "execution": {}
   },
   "source": [
    "---\n",
    "# Section 2: Deep Q-Networks (DQN)\n",
    "\n",
    "*Time estimate: ~30mins*"
   ]
  },
  {
   "cell_type": "markdown",
   "metadata": {},
   "source": [
    "##  Video 2: Deep Q-Networks (DQN)\n"
   ]
  },
  {
   "cell_type": "code",
   "execution_count": null,
   "metadata": {
    "cellView": "form",
    "execution": {},
    "tags": [
     "remove-input"
    ]
   },
   "outputs": [],
   "source": [
    "# @title Video 2: Deep Q-Networks (DQN)\n",
    "from ipywidgets import widgets\n",
    "\n",
    "out2 = widgets.Output()\n",
    "with out2:\n",
    "  from IPython.display import IFrame\n",
    "  class BiliVideo(IFrame):\n",
    "    def __init__(self, id, page=1, width=400, height=300, **kwargs):\n",
    "      self.id=id\n",
    "      src = \"https://player.bilibili.com/player.html?bvid={0}&page={1}\".format(id, page)\n",
    "      super(BiliVideo, self).__init__(src, width, height, **kwargs)\n",
    "\n",
    "  video = BiliVideo(id=f\"BV1Mo4y1Q7yD\", width=730, height=410, fs=1)\n",
    "  print(\"Video available at https://www.bilibili.com/video/{0}\".format(video.id))\n",
    "  display(video)\n",
    "\n",
    "out1 = widgets.Output()\n",
    "with out1:\n",
    "  from IPython.display import YouTubeVideo\n",
    "  video = YouTubeVideo(id=f\"HEDoNtV1y-w\", width=730, height=410, fs=1, rel=0)\n",
    "  print(\"Video available at https://youtube.com/watch?v=\" + video.id)\n",
    "  display(video)\n",
    "\n",
    "out = widgets.Tab([out1, out2])\n",
    "out.set_title(0, 'Youtube')\n",
    "out.set_title(1, 'Bilibili')\n",
    "\n",
    "display(out)"
   ]
  },
  {
   "cell_type": "markdown",
   "metadata": {
    "execution": {}
   },
   "source": [
    "<center><img src=\"https://raw.githubusercontent.com/NeuromatchAcademy/course-content-dl/main/tutorials/W3D4_BasicReinforcementLearning/static/DQN.jpg\" width=\"500\" /><figcaption>Adopted from <a href=\"https://storage.googleapis.com/deepmind-media/dqn/DQNNaturePaper.pdf\">Mnih et al., 2015</a></figcaption></center> \n",
    "\n",
    "\n",
    "In this section, we will look at an advanced deep RL Agent based on the following publication, [Playing Atari with Deep Reinforcement Learning](https://deepmind.com/research/publications/playing-atari-deep-reinforcement-learning), which introduced the first deep learning model to successfully learn control policies directly from high-dimensional pixel inputs using RL.\n",
    "\n",
    "Here the agent will act directly on a pixel representation of the gridworld. You can find an incomplete implementation below.\n",
    "\n"
   ]
  },
  {
   "cell_type": "markdown",
   "metadata": {
    "execution": {}
   },
   "source": [
    "### Coding Exercise 2.1: Run a DQN Agent"
   ]
  },
  {
   "cell_type": "code",
   "execution_count": null,
   "metadata": {
    "execution": {}
   },
   "outputs": [],
   "source": [
    "class DQN(acme.Actor):\n",
    "  \"\"\"\n",
    "  Implementation of a Deep Q Network Agent\n",
    "  \"\"\"\n",
    "\n",
    "  def __init__(self,\n",
    "               environment_spec: specs.EnvironmentSpec,\n",
    "               network: nn.Module,\n",
    "               replay_capacity: int = 100_000,\n",
    "               epsilon: float = 0.1,\n",
    "               batch_size: int = 1,\n",
    "               learning_rate: float = 5e-4,\n",
    "               target_update_frequency: int = 10):\n",
    "    \"\"\"\n",
    "    DQN Based Agent Initialisation\n",
    "\n",
    "    Args:\n",
    "      environment_spec: specs.EnvironmentSpec\n",
    "        * actions: DiscreteArray(shape=(), dtype=int32, name=action, minimum=0, maximum=3, num_values=4)\n",
    "        * observations: Array(shape=(9, 10, 3), dtype=dtype('float32'), name='observation_grid')\n",
    "        * rewards: Array(shape=(), dtype=dtype('float32'), name='reward')\n",
    "        * discounts: BoundedArray(shape=(), dtype=dtype('float32'), name='discount', minimum=0.0, maximum=1.0)\n",
    "      network: nn.Module\n",
    "        Deep Q Network\n",
    "      replay_capacity: int\n",
    "        Capacity of the replay buffer [default: 100000]\n",
    "      epsilon: float\n",
    "        Controls the exploration-exploitation tradeoff\n",
    "      batch_size: int\n",
    "        Batch Size [default = 1]\n",
    "      learning_rate: float\n",
    "        Rate at which the neural fitted agent learns [default = 3e-4]\n",
    "      target_update_frequency: int\n",
    "        Frequency with which target network is updated\n",
    "\n",
    "    Returns:\n",
    "      Nothing\n",
    "    \"\"\"\n",
    "    # Store agent hyperparameters and network.\n",
    "    self._num_actions = environment_spec.actions.num_values\n",
    "    self._epsilon = epsilon\n",
    "    self._batch_size = batch_size\n",
    "    self._q_network = q_network\n",
    "\n",
    "    # Create a second q net with the same structure and initial values, which\n",
    "    # we'll be updating separately from the learned q-network.\n",
    "    self._target_network = copy.deepcopy(self._q_network)\n",
    "\n",
    "    # Container for the computed loss (see run_loop implementation above).\n",
    "    self.last_loss = 0.0\n",
    "\n",
    "    # Create the replay buffer.\n",
    "    self._replay_buffer = ReplayBuffer(replay_capacity)\n",
    "    # Keep an internal tracker of steps\n",
    "    self._current_step = 0\n",
    "\n",
    "    # How often to update the target network\n",
    "    self._target_update_frequency = target_update_frequency\n",
    "    # Setup optimizer that will train the network to minimize the loss.\n",
    "    self._optimizer = torch.optim.Adam(self._q_network.parameters(), lr=learning_rate)\n",
    "    self._loss_fn = nn.MSELoss()\n",
    "\n",
    "  def select_action(self, observation):\n",
    "    \"\"\"\n",
    "    Action Selection Algorithm\n",
    "\n",
    "    Args:\n",
    "      observation: enum\n",
    "        * ObservationType.STATE_INDEX: int32 index of agent occupied tile.\n",
    "        * ObservationType.AGENT_ONEHOT: NxN float32 grid, with a 1 where the\n",
    "          agent is and 0 elsewhere.\n",
    "        * ObservationType.GRID: NxNx3 float32 grid of feature channels.\n",
    "          First channel contains walls (1 if wall, 0 otherwise), second the\n",
    "          agent position (1 if agent, 0 otherwise) and third goal position\n",
    "          (1 if goal, 0 otherwise)\n",
    "        * ObservationType.AGENT_GOAL_POS: float32 tuple with\n",
    "          (agent_y, agent_x, goal_y, goal_x)\n",
    "\n",
    "    Returns:\n",
    "      action: Integer\n",
    "        Chosen random action\n",
    "    \"\"\"\n",
    "    # Compute Q-values.\n",
    "    # Sonnet requires a batch dimension, which we squeeze out right after.\n",
    "    q_values = self._q_network(torch.tensor(observation).unsqueeze(0))  # Adds batch dimension.\n",
    "    q_values = q_values.squeeze(0)  # Removes batch dimension\n",
    "\n",
    "    # Select epsilon-greedy action.\n",
    "    if self._epsilon < torch.rand(1):\n",
    "      action = q_values.argmax(axis=-1)\n",
    "    else:\n",
    "      action = torch.randint(low=0, high=self._num_actions , size=(1, ), dtype=torch.int64).squeeze()\n",
    "    return action\n",
    "\n",
    "  def q_values(self, observation):\n",
    "    q_values = self._q_network(torch.tensor(observation).unsqueeze(0))\n",
    "    return q_values.squeeze(0).detach()\n",
    "\n",
    "  def update(self):\n",
    "    \"\"\"\n",
    "    Updates replay buffer\n",
    "\n",
    "    Args:\n",
    "      None\n",
    "\n",
    "    Returns:\n",
    "      Nothing\n",
    "    \"\"\"\n",
    "    self._current_step += 1\n",
    "\n",
    "    if not self._replay_buffer.is_ready(self._batch_size):\n",
    "      # If the replay buffer is not ready to sample from, do nothing.\n",
    "      return\n",
    "\n",
    "    # Sample a minibatch of transitions from experience replay.\n",
    "    transitions = self._replay_buffer.sample(self._batch_size)\n",
    "\n",
    "    # Optionally unpack the transitions to lighten notation.\n",
    "    # Note: each of these tensors will be of shape [batch_size, ...].\n",
    "    s = torch.tensor(transitions.state)\n",
    "    a = torch.tensor(transitions.action)\n",
    "    r = torch.tensor(transitions.reward)\n",
    "    d = torch.tensor(transitions.discount)\n",
    "    next_s = torch.tensor(transitions.next_state)\n",
    "\n",
    "    # Compute the Q-values at next states in the transitions.\n",
    "    with torch.no_grad():\n",
    "      #################################################\n",
    "      # Fill in missing code below (...),\n",
    "      # then remove or comment the line below to test your implementation\n",
    "      raise NotImplementedError(\"Student exercise: complete the DQN Agent\")\n",
    "      #################################################\n",
    "      #TODO get the value of the next states evaluated by the target network\n",
    "      # HINT: use self._target_network, defined above.\n",
    "      q_next_s = ...  # Shape [batch_size, num_actions].\n",
    "\n",
    "      max_q_next_s = q_next_s.max(axis=-1)[0]\n",
    "      # Compute the TD error and then the losses.\n",
    "      target_q_value = r + d * max_q_next_s\n",
    "\n",
    "    # Compute the Q-values at original state.\n",
    "    q_s = self._q_network(s)\n",
    "\n",
    "    # Gather the Q-value corresponding to each action in the batch.\n",
    "    q_s_a = q_s.gather(1, a.view(-1, 1)).squeeze(0)\n",
    "\n",
    "    # Average the squared TD errors over the entire batch\n",
    "    loss = self._loss_fn(target_q_value, q_s_a)\n",
    "\n",
    "    # Compute the gradients of the loss with respect to the q_network variables.\n",
    "    self._optimizer.zero_grad()\n",
    "\n",
    "    loss.backward()\n",
    "    # Apply the gradient update.\n",
    "    self._optimizer.step()\n",
    "\n",
    "    if self._current_step % self._target_update_frequency == 0:\n",
    "      self._target_network.load_state_dict(self._q_network.state_dict())\n",
    "    # Store the loss for logging purposes (see run_loop implementation above).\n",
    "    self.last_loss = loss.detach().numpy()\n",
    "\n",
    "  def observe_first(self, timestep: dm_env.TimeStep):\n",
    "    self._replay_buffer.add_first(timestep)\n",
    "\n",
    "  def observe(self, action: int, next_timestep: dm_env.TimeStep):\n",
    "    self._replay_buffer.add(action, next_timestep)\n",
    "\n",
    "\n",
    "# Create a convenient container for the SARS tuples required by NFQ.\n",
    "Transitions = collections.namedtuple(\n",
    "    'Transitions', ['state', 'action', 'reward', 'discount', 'next_state'])"
   ]
  },
  {
   "cell_type": "markdown",
   "metadata": {
    "colab_type": "text",
    "execution": {}
   },
   "source": [
    "[*Click for solution*](https://github.com/NeuromatchAcademy/course-content-dl/tree/main//tutorials/W3D4_BasicReinforcementLearning/solutions/W3D4_Tutorial5_Solution_e7b2a488.py)\n",
    "\n"
   ]
  },
  {
   "cell_type": "markdown",
   "metadata": {},
   "source": [
    "####  Train and evaluate the DQN agent\n"
   ]
  },
  {
   "cell_type": "code",
   "execution_count": null,
   "metadata": {
    "cellView": "form",
    "execution": {},
    "tags": [
     "hide-input"
    ]
   },
   "outputs": [],
   "source": [
    "# @title Train and evaluate the DQN agent\n",
    "\n",
    "epsilon = 0.25  # @param {type: \"number\"}\n",
    "num_episodes = 500  # @param {type: \"integer\"}\n",
    "max_episode_length = 50  # @param {type: \"integer\"}\n",
    "\n",
    "grid = build_gridworld_task(\n",
    "    task='simple',\n",
    "    observation_type=ObservationType.GRID,\n",
    "    max_episode_length=max_episode_length)\n",
    "environment, environment_spec = setup_environment(grid)\n",
    "\n",
    "class Permute(nn.Module):\n",
    "  \"\"\"\n",
    "  Build Agent's Network\n",
    "  \"\"\"\n",
    "  def __init__(self, order: list):\n",
    "    super(Permute,self).__init__()\n",
    "    self.order = order\n",
    "\n",
    "  def forward(self, x):\n",
    "    return x.permute(self.order)\n",
    "\n",
    "q_network = nn.Sequential(Permute([0, 3, 1, 2]),\n",
    "                          nn.Conv2d(3, 32, kernel_size=4,\n",
    "                                    stride=2,padding=1),\n",
    "                          nn.ReLU(),\n",
    "                          nn.Conv2d(32, 64, kernel_size=3,\n",
    "                                    stride=1, padding=1),\n",
    "                          nn.ReLU(),\n",
    "                          nn.MaxPool2d(3, 1),\n",
    "                          nn.Flatten(),\n",
    "                          nn.Linear(384, 50),\n",
    "                          nn.ReLU(),\n",
    "                          nn.Linear(50, environment_spec.actions.num_values)\n",
    "                          )\n",
    "\n",
    "agent = DQN(\n",
    "    environment_spec=environment_spec,\n",
    "    network=q_network,\n",
    "    batch_size=10,\n",
    "    epsilon=epsilon,\n",
    "    target_update_frequency=25)\n",
    "\n",
    "returns = run_loop(\n",
    "    environment=environment,\n",
    "    agent=agent,\n",
    "    num_episodes=num_episodes,\n",
    "    num_steps=100000)"
   ]
  },
  {
   "cell_type": "markdown",
   "metadata": {},
   "source": [
    "####  Visualise the learned $Q$ values\n"
   ]
  },
  {
   "cell_type": "markdown",
   "metadata": {},
   "source": [
    " ##### Evaluate the policy for every state, similar to tabular agents above.\n"
   ]
  },
  {
   "cell_type": "code",
   "execution_count": null,
   "metadata": {
    "cellView": "form",
    "execution": {},
    "tags": [
     "hide-input"
    ]
   },
   "outputs": [],
   "source": [
    "# @title Visualise the learned $Q$ values\n",
    "# @markdown ##### Evaluate the policy for every state, similar to tabular agents above.\n",
    "\n",
    "pi = np.zeros(grid._layout_dims, dtype=np.int32)\n",
    "q = np.zeros(grid._layout_dims + (4,))\n",
    "for y in range(grid._layout_dims[0]):\n",
    "  for x in range(grid._layout_dims[1]):\n",
    "    # Hack observation to see what the Q-network would output at that point.\n",
    "    environment.set_state(x, y)\n",
    "    obs = environment.get_obs()\n",
    "    q[y, x] = np.asarray(agent.q_values(obs))\n",
    "    pi[y, x] = np.asarray(agent.select_action(obs))\n",
    "\n",
    "plot_action_values(q)"
   ]
  },
  {
   "cell_type": "markdown",
   "metadata": {},
   "source": [
    "####  Compare the greedy policy with the agent's policy\n"
   ]
  },
  {
   "cell_type": "code",
   "execution_count": null,
   "metadata": {
    "cellView": "form",
    "execution": {},
    "tags": [
     "hide-input"
    ]
   },
   "outputs": [],
   "source": [
    "# @title Compare the greedy policy with the agent's policy\n",
    "\n",
    "environment.plot_greedy_policy(q)\n",
    "plt.figtext(-.08, .95, \"Greedy policy using the learnt Q-values\")\n",
    "plt.title('')\n",
    "plt.show()\n",
    "\n",
    "environment.plot_policy(pi)\n",
    "plt.figtext(-.08, .95, \"Policy using the agent's epsilon-greedy policy\")\n",
    "plt.title('')\n",
    "plt.show()"
   ]
  },
  {
   "cell_type": "markdown",
   "metadata": {
    "execution": {}
   },
   "source": [
    "**Note:** You get a better estimate of the value functions if you increase `num_episodes` and `max_episode_length`, but this will take longer to train. Feel free to play around after the day!"
   ]
  },
  {
   "cell_type": "markdown",
   "metadata": {
    "execution": {}
   },
   "source": [
    "---\n",
    "# Section 3: Learning the policy directly\n",
    "\n",
    "*Time estimate: ~25mins*"
   ]
  },
  {
   "cell_type": "markdown",
   "metadata": {},
   "source": [
    "##  Video 3: Other Deep RL Methods\n"
   ]
  },
  {
   "cell_type": "code",
   "execution_count": null,
   "metadata": {
    "cellView": "form",
    "execution": {},
    "tags": [
     "remove-input"
    ]
   },
   "outputs": [],
   "source": [
    "# @title Video 3: Other Deep RL Methods\n",
    "from ipywidgets import widgets\n",
    "\n",
    "out2 = widgets.Output()\n",
    "with out2:\n",
    "  from IPython.display import IFrame\n",
    "  class BiliVideo(IFrame):\n",
    "    def __init__(self, id, page=1, width=400, height=300, **kwargs):\n",
    "      self.id=id\n",
    "      src = \"https://player.bilibili.com/player.html?bvid={0}&page={1}\".format(id, page)\n",
    "      super(BiliVideo, self).__init__(src, width, height, **kwargs)\n",
    "\n",
    "  video = BiliVideo(id=f\"BV14w411977Y\", width=730, height=410, fs=1)\n",
    "  print(\"Video available at https://www.bilibili.com/video/{0}\".format(video.id))\n",
    "  display(video)\n",
    "\n",
    "out1 = widgets.Output()\n",
    "with out1:\n",
    "  from IPython.display import YouTubeVideo\n",
    "  video = YouTubeVideo(id=f\"1N4Jm9loJx4\", width=730, height=410, fs=1, rel=0)\n",
    "  print(\"Video available at https://youtube.com/watch?v=\" + video.id)\n",
    "  display(video)\n",
    "\n",
    "out = widgets.Tab([out1, out2])\n",
    "out.set_title(0, 'Youtube')\n",
    "out.set_title(1, 'Bilibili')\n",
    "\n",
    "display(out)"
   ]
  },
  {
   "cell_type": "markdown",
   "metadata": {
    "execution": {}
   },
   "source": [
    "## Cartpole task\n",
    "\n",
    "Here we switch to training on a different kind of task, which has a continuous action space: Cartpole in [Gym](https://gym.openai.com/). As you recall from the video, policy-based methods are particularly well-suited for these kinds of tasks. We will be exploring two of those methods below.\n",
    "\n",
    "<br>\n",
    "\n",
    "<center><img src=\"https://raw.githubusercontent.com/NeuromatchAcademy/course-content-dl/main/tutorials/W3D4_BasicReinforcementLearning/static/cartpole_task.gif\" height=\"250\" /></center>"
   ]
  },
  {
   "cell_type": "markdown",
   "metadata": {},
   "source": [
    "###  Make a CartPole environment, `gym.make('CartPole-v1')`\n"
   ]
  },
  {
   "cell_type": "code",
   "execution_count": null,
   "metadata": {
    "cellView": "form",
    "execution": {},
    "tags": [
     "hide-input"
    ]
   },
   "outputs": [],
   "source": [
    "# @title Make a CartPole environment, `gym.make('CartPole-v1')`\n",
    "env = gym.make('CartPole-v1')\n",
    "\n",
    "# Set seeds\n",
    "env.seed(SEED)\n",
    "set_seed(SEED)"
   ]
  },
  {
   "cell_type": "markdown",
   "metadata": {
    "execution": {}
   },
   "source": [
    "## Section 3.1: Policy gradient\n",
    "\n",
    "Now we will turn to policy gradient methods. Rather than defining the policy in terms of a value function, i.e., $\\color{blue}\\pi(\\color{red}s) = \\arg\\max_{\\color{blue}a}\\color{green}Q(\\color{red}s, \\color{blue}a)$, we will directly parameterize the policy and write it as the distribution\n",
    "\n",
    "\\begin{equation}\n",
    "\\color{blue}a_t \\sim \\color{blue}\\pi_{\\theta}(\\color{blue}a_t|\\color{red}s_t).\n",
    "\\end{equation}\n",
    "\n",
    "Here $\\theta$ represent the parameters of the policy. We will update the policy parameters using gradient ascent to **maximize** expected future reward.\n",
    "\n",
    "One convenient way to represent the conditional distribution above is as a function that takes a state $\\color{red}s$ and returns a distribution over actions $\\color{blue}a$.\n",
    "\n",
    "Defined below is an agent which implements the REINFORCE algorithm. \n",
    "REINFORCE ([Williams, 1992](https://doi.org/10.1007/BF00992696)) is the simplest model-free general reinforcement learning technique.\n",
    "\n",
    "The **basic idea** is to use probabilistic action choice. If the reward at the end turns out to be high, we make **all** actions in this sequence **more likely** (otherwise, we do the opposite).\n",
    "\n",
    "This strategy could reinforce \"bad\" actions as well, however they will turn out to be part of trajectories with low reward and will likely not get accentuated.\n",
    "\n",
    "From the lectures, we know that we need to compute\n",
    "\n",
    "\\begin{equation}\n",
    "\\nabla J(\\theta) \n",
    "= \\mathbb{E}\n",
    "\\left[\n",
    "  \\sum_{t=0}^T \\color{green} G_t \n",
    "  \\nabla\\log\\color{blue}\\pi_\\theta(\\color{red}{s_t})\n",
    "\\right]\n",
    "\\end{equation}\n",
    "\n",
    "where $\\color{green} G_t$ is the sum over future rewards from time $t$, defined as\n",
    "\n",
    "\\begin{equation}\n",
    "\\color{green} G_t \n",
    "= \\sum_{n=t}^T \\gamma^{n-t} \n",
    "\\color{green} R(\\color{red}{s_t}, \\color{blue}{a_t}, \\color{red}{s_{t+1}}).\n",
    "\\end{equation}\n",
    "\n",
    "The algorithm below will collect the state, action, and reward data in its buffer until it reaches a full trajectory. It will then update its policy given the above gradient (and the Adam optimizer).\n",
    "\n",
    "A policy gradient trains an agent without explicitly mapping the value for every state-action pair in an environment by taking small steps and updating the policy based on the reward associated with that step. In this section, we will build a small network that trains using policy gradient using PyTorch.\n",
    "\n",
    "The agent can receive a reward immediately for an action or it can receive the award at a later time such as the end of the episode.\n",
    "\n",
    "The policy function our agent will try to learn is $\\pi_\\theta(a,s)$, where $\\theta$ is the parameter vector, $s$ is a particular state, and $a$ is an action.\n",
    "\n",
    "Monte-Carlo Policy Gradient approach will be used, which means the agent will run through an entire episode and then update policy based on the rewards obtained."
   ]
  },
  {
   "cell_type": "markdown",
   "metadata": {},
   "source": [
    "###  Set the hyperparameters for Policy Gradient\n"
   ]
  },
  {
   "cell_type": "markdown",
   "metadata": {},
   "source": [
    " Only used in Policy Gradient Method:\n"
   ]
  },
  {
   "cell_type": "code",
   "execution_count": null,
   "metadata": {
    "cellView": "form",
    "execution": {},
    "tags": [
     "hide-input"
    ]
   },
   "outputs": [],
   "source": [
    "# @title Set the hyperparameters for Policy Gradient\n",
    "\n",
    "num_steps = 300\n",
    "\n",
    "learning_rate = 0.01  # @param {type:\"number\"}\n",
    "gamma = 0.99  # @param {type:\"number\"}\n",
    "dropout = 0.6 # @param {type:\"number\"}\n",
    "\n",
    "# @markdown Only used in Policy Gradient Method:\n",
    "hidden_neurons = 128  # @param {type:\"integer\"}"
   ]
  },
  {
   "cell_type": "markdown",
   "metadata": {
    "execution": {}
   },
   "source": [
    "### Coding Exercise 3.1: Creating a simple neural network\n",
    "\n",
    "Below you will find some incomplete code. Fill in the missing code to construct the specified neural network.\n",
    "\n",
    "Let us define a simple feed forward neural network with one hidden layer of $128$ neurons and a dropout of $0.6$. Let's use Adam as our optimizer and a learning rate of $0.01$. Use the hyperparameters already defined rather than using explicit values.\n",
    "\n",
    "Using dropout will significantly improve the performance of the policy. Do compare your results with and without dropout and experiment with other hyper-parameter values as well."
   ]
  },
  {
   "cell_type": "code",
   "execution_count": null,
   "metadata": {
    "execution": {}
   },
   "outputs": [],
   "source": [
    "class PolicyGradientNet(nn.Module):\n",
    "  \"\"\"\n",
    "  Defines Policy Gradient Network with the following attributes:\n",
    "    Feed Forward Network with a single hidden layer\n",
    "    width: 128 neurons\n",
    "    dropout: 0.6\n",
    "    Optimizer: Adam\n",
    "    Learning Rate: 0.01\n",
    "  \"\"\"\n",
    "\n",
    "  def __init__(self):\n",
    "    \"\"\"\n",
    "    Initiate Policy Gradient Network with above mentioned parameters/hyperparameters\n",
    "\n",
    "    Args:\n",
    "      None\n",
    "\n",
    "    Returns:\n",
    "      Nothing\n",
    "    \"\"\"\n",
    "    super(PolicyGradientNet, self).__init__()\n",
    "    self.state_space = env.observation_space.shape[0]\n",
    "    self.action_space = env.action_space.n\n",
    "    #################################################\n",
    "    ## TODO for students: Define two linear layers\n",
    "    ## from the first expression\n",
    "    raise NotImplementedError(\"Student exercise: Create FF neural network.\")\n",
    "    #################################################\n",
    "    # HINT: you can construct linear layers using nn.Linear(); what are the\n",
    "    # sizes of the inputs and outputs of each of the layers? Also remember\n",
    "    # that you need to use hidden_neurons (see hyperparameters section above).\n",
    "    #   https://pytorch.org/docs/stable/generated/torch.nn.Linear.html\n",
    "    self.l1 = ...\n",
    "    self.l2 = ...\n",
    "\n",
    "    self.gamma = gamma\n",
    "    # Episode policy and past rewards\n",
    "    self.past_policy = Variable(torch.Tensor())\n",
    "    self.reward_episode = []\n",
    "    # Overall reward and past loss\n",
    "    self.past_reward = []\n",
    "    self.past_loss = []\n",
    "\n",
    "  def forward(self, x):\n",
    "    model = torch.nn.Sequential(\n",
    "        self.l1,\n",
    "        nn.Dropout(p=dropout),\n",
    "        nn.ReLU(),\n",
    "        self.l2,\n",
    "        nn.Softmax(dim=-1)\n",
    "    )\n",
    "    return model(x)"
   ]
  },
  {
   "cell_type": "markdown",
   "metadata": {
    "colab_type": "text",
    "execution": {}
   },
   "source": [
    "[*Click for solution*](https://github.com/NeuromatchAcademy/course-content-dl/tree/main//tutorials/W3D4_BasicReinforcementLearning/solutions/W3D4_Tutorial5_Solution_7fb6cb36.py)\n",
    "\n"
   ]
  },
  {
   "cell_type": "markdown",
   "metadata": {
    "execution": {}
   },
   "source": [
    "Now let's create an instance of the network we have defined and use Adam as the optimizer using the learning_rate as hyperparameter already defined above."
   ]
  },
  {
   "cell_type": "code",
   "execution_count": null,
   "metadata": {
    "execution": {}
   },
   "outputs": [],
   "source": [
    "policy = PolicyGradientNet()\n",
    "pg_optimizer = optim.Adam(policy.parameters(), lr=learning_rate)"
   ]
  },
  {
   "cell_type": "markdown",
   "metadata": {
    "execution": {}
   },
   "source": [
    "### Select Action\n",
    "\n",
    "The `select_action()` function chooses an action based on our policy probability distribution using the PyTorch distributions package.  Our policy returns a probability for each possible action in our action space (move left or move right) as an array of length two such as $[0.7, 0.3]$.  We then choose an action based on these probabilities, record our history, and return our action. "
   ]
  },
  {
   "cell_type": "code",
   "execution_count": null,
   "metadata": {
    "execution": {}
   },
   "outputs": [],
   "source": [
    "def select_action(state):\n",
    "  \"\"\"\n",
    "  Select an action (0 or 1) by running policy model and choosing based on the probabilities in state;\n",
    "\n",
    "  Args:\n",
    "    state: np.ndarray\n",
    "      Describes Agent's state\n",
    "\n",
    "  Returns:\n",
    "    action:\n",
    "      Returns chosen action based on policy's probability distribution\n",
    "  \"\"\"\n",
    "  state = torch.from_numpy(state).type(torch.FloatTensor)\n",
    "  state = policy(Variable(state))\n",
    "  c = Categorical(state)\n",
    "  action = c.sample()\n",
    "\n",
    "  # Add log probability of chosen action\n",
    "  if policy.past_policy.dim() != 0:\n",
    "    policy.past_policy = torch.cat([policy.past_policy, c.log_prob(action).reshape(1)])\n",
    "  else:\n",
    "    policy.past_policy = (c.log_prob(action).reshape(1))\n",
    "  return action"
   ]
  },
  {
   "cell_type": "markdown",
   "metadata": {
    "execution": {}
   },
   "source": [
    "### Update policy\n",
    "\n",
    "This function updates the policy."
   ]
  },
  {
   "cell_type": "markdown",
   "metadata": {
    "execution": {}
   },
   "source": [
    "#### Reward $G_t$\n",
    "We update our policy by taking a sample of the action value function $Q^{\\pi_\\theta} (s_t,a_t)$ by playing through episodes of the game. $Q^{\\pi_\\theta} (s_t,a_t)$ is defined as the expected return by taking action $a$ in state $s$ following policy $\\pi$.\n",
    "\n",
    "We know that for every step the simulation continues we receive a reward of $1$.  We can use this to calculate the policy gradient at each time step, where $r$ is the reward for a particular state-action pair.  Rather than using the instantaneous reward, $r$, we instead use a long term reward $v_{t}$ where $v_t$ is the discounted sum of all future rewards for the length of the episode. $v_{t}$ is then,\n",
    "\n",
    "\\begin{equation}\n",
    "\\color{green} G_t \n",
    "= \\sum_{n=t}^T \\gamma^{n-t} \n",
    "\\color{green} R(\\color{red}{s_t}, \\color{blue}{a_t}, \\color{red}{s_{t+1}}).\n",
    "\\end{equation}\n",
    "\n",
    "where $\\gamma$ is the discount factor ($0.99$). For example, if an episode lasts 5 steps, the reward for each step will be $[4.90, 3.94, 2.97, 1.99, 1]$.\n",
    "Next we scale our reward vector by substracting the mean from each element and scaling to unit variance by dividing by the standard deviation.  This practice is common for machine learning applications and the same operation as Scikit Learn's __[StandardScaler](http://scikit-learn.org/stable/modules/generated/sklearn.preprocessing.StandardScaler.html)__.  It also has the effect of compensating for future uncertainty."
   ]
  },
  {
   "cell_type": "markdown",
   "metadata": {
    "execution": {}
   },
   "source": [
    "#### Update Policy: equation\n",
    "After each episode we apply Monte-Carlo Policy Gradient to improve our policy according to the equation:\n",
    "\n",
    "\\begin{equation}\n",
    "\\Delta\\theta_t = \\alpha\\nabla_\\theta \\, \\log \\pi_\\theta (s_t,a_t)G_t\n",
    "\\end{equation}\n",
    "\n",
    "We will then feed our policy history multiplied by our rewards to our optimizer and update the weights of our neural network using stochastic gradient **ascent**.  This should increase the likelihood of actions that got our agent a larger reward."
   ]
  },
  {
   "cell_type": "markdown",
   "metadata": {
    "execution": {}
   },
   "source": [
    "The following function ```update_policy``` updates the network weights and therefore the policy.\n",
    "\n"
   ]
  },
  {
   "cell_type": "code",
   "execution_count": null,
   "metadata": {
    "execution": {}
   },
   "outputs": [],
   "source": [
    "def update_policy():\n",
    "  \"\"\"\n",
    "  Helper function to update network weights and policy\n",
    "\n",
    "  Args:\n",
    "    None\n",
    "\n",
    "  Returns:\n",
    "    Nothing\n",
    "  \"\"\"\n",
    "  R = 0\n",
    "  rewards = []\n",
    "\n",
    "  # Discount future rewards back to the present using gamma\n",
    "  for r in policy.reward_episode[::-1]:\n",
    "    R = r + policy.gamma * R\n",
    "    rewards.insert(0, R)\n",
    "\n",
    "  # Scale rewards\n",
    "  rewards = torch.FloatTensor(rewards)\n",
    "  rewards = (rewards - rewards.mean()) / (rewards.std() +\n",
    "                                          np.finfo(np.float32).eps)\n",
    "\n",
    "  # Calculate loss\n",
    "  pg_loss = (torch.sum(torch.mul(policy.past_policy,\n",
    "                              Variable(rewards)).mul(-1), -1))\n",
    "\n",
    "  # Update network weights\n",
    "  # Use zero_grad(), backward() and step() methods of the optimizer instance.\n",
    "  pg_optimizer.zero_grad()\n",
    "  pg_loss.backward()\n",
    "\n",
    "  # Update the weights\n",
    "  for param in policy.parameters():\n",
    "      param.grad.data.clamp_(-1, 1)\n",
    "  pg_optimizer.step()\n",
    "\n",
    "  # Save and intialize episode past counters\n",
    "  policy.past_loss.append(pg_loss.item())\n",
    "  policy.past_reward.append(np.sum(policy.reward_episode))\n",
    "  policy.past_policy = Variable(torch.Tensor())\n",
    "  policy.reward_episode= []"
   ]
  },
  {
   "cell_type": "markdown",
   "metadata": {
    "execution": {}
   },
   "source": [
    "### Training\n",
    "\n",
    "This is our main policy training loop. For each step in a training episode, we choose an action, take a step through the environment, and record the resulting new state and reward. We call `update_policy()` at the end of each episode to feed the episode history to our neural network and improve our policy."
   ]
  },
  {
   "cell_type": "code",
   "execution_count": null,
   "metadata": {
    "execution": {}
   },
   "outputs": [],
   "source": [
    "def policy_gradient_train(episodes):\n",
    "  \"\"\"\n",
    "  Helper function to train policy gradient network\n",
    "\n",
    "  Args:\n",
    "    episodes: List\n",
    "      Log of state per episode\n",
    "\n",
    "  Returns:\n",
    "    Nothing\n",
    "  \"\"\"\n",
    "  running_reward = 10\n",
    "  for episode in range(episodes):\n",
    "    state = env.reset()\n",
    "    done = False\n",
    "\n",
    "    for time in range(1000):\n",
    "      action = select_action(state)\n",
    "      # Step through environment using chosen action\n",
    "      state, reward, done, _ = env.step(action.item())\n",
    "\n",
    "      # Save reward\n",
    "      policy.reward_episode.append(reward)\n",
    "      if done:\n",
    "        break\n",
    "\n",
    "    # Used to determine when the environment is solved.\n",
    "    running_reward = (running_reward * gamma) + (time * (1 - gamma))\n",
    "\n",
    "    update_policy()\n",
    "\n",
    "    if episode % 50 == 0:\n",
    "      print(f\"Episode {episode}\\tLast length: {time:5.0f}\"\n",
    "            f\"\\tAverage length: {running_reward:.2f}\")\n",
    "\n",
    "    if running_reward > env.spec.reward_threshold:\n",
    "      print(f\"Solved! Running reward is now {running_reward} \"\n",
    "            f\"and the last episode runs to {time} time steps!\")\n",
    "      break"
   ]
  },
  {
   "cell_type": "markdown",
   "metadata": {
    "execution": {}
   },
   "source": [
    "### Run the model"
   ]
  },
  {
   "cell_type": "code",
   "execution_count": null,
   "metadata": {
    "cellView": "form",
    "execution": {}
   },
   "outputs": [],
   "source": [
    "episodes = 500   # @param {type:\"integer\"}\n",
    "policy_gradient_train(episodes)"
   ]
  },
  {
   "cell_type": "markdown",
   "metadata": {
    "execution": {}
   },
   "source": [
    "### Plot the results"
   ]
  },
  {
   "cell_type": "markdown",
   "metadata": {},
   "source": [
    "####  Plot the training performance for policy gradient\n"
   ]
  },
  {
   "cell_type": "code",
   "execution_count": null,
   "metadata": {
    "cellView": "form",
    "execution": {},
    "tags": [
     "hide-input"
    ]
   },
   "outputs": [],
   "source": [
    "# @title Plot the training performance for policy gradient\n",
    "\n",
    "def plot_policy_gradient_training():\n",
    "  \"\"\"\n",
    "  Helper function to plot the training performance\n",
    "  of policy gradient network\n",
    "\n",
    "  Args:\n",
    "    None\n",
    "\n",
    "  Returns:\n",
    "    Nothing\n",
    "  \"\"\"\n",
    "  window = int(episodes / 20)\n",
    "\n",
    "  fig, ((ax1), (ax2)) = plt.subplots(1, 2, sharey=True, figsize=[15, 4]);\n",
    "  rolling_mean = pd.Series(policy.past_reward).rolling(window).mean()\n",
    "  std = pd.Series(policy.past_reward).rolling(window).std()\n",
    "  ax1.plot(rolling_mean)\n",
    "  ax1.fill_between(range(len(policy.past_reward)),\n",
    "                   rolling_mean-std, rolling_mean+std,\n",
    "                   color='orange', alpha=0.2)\n",
    "  ax1.set_title(f\"Episode Length Moving Average ({window}-episode window)\")\n",
    "  ax1.set_xlabel('Episode'); ax1.set_ylabel('Episode Length')\n",
    "\n",
    "  ax2.plot(policy.past_reward)\n",
    "  ax2.set_title('Episode Length')\n",
    "  ax2.set_xlabel('Episode')\n",
    "  ax2.set_ylabel('Episode Length')\n",
    "\n",
    "  fig.tight_layout(pad=2)\n",
    "  plt.show()\n",
    "\n",
    "plot_policy_gradient_training()"
   ]
  },
  {
   "cell_type": "markdown",
   "metadata": {
    "execution": {}
   },
   "source": [
    "### Exercise 3.1: Explore different hyperparameters.\n",
    "\n",
    "Try running the model again, by modifying the hyperparameters and observe the outputs. Be sure to rerun the function definition cells in order to pick up on the updated values.\n",
    "\n",
    "What do you see when you \n",
    "\n",
    "1. increase learning rate\n",
    "2. decrease learning rate\n",
    "3. decrease gamma ($\\gamma$)\n",
    "4. increase number of hidden neurons in the network"
   ]
  },
  {
   "cell_type": "markdown",
   "metadata": {
    "execution": {}
   },
   "source": [
    "## Section 3.2: Actor-critic\n",
    "\n",
    "Recall the policy gradient\n",
    "\n",
    "\\begin{equation}\n",
    "\\nabla J(\\theta) \n",
    "= \\mathbb{E}\n",
    "\\left[\n",
    "  \\sum_{t=0}^T \\color{green} G_t \n",
    "  \\nabla\\log\\color{blue}\\pi_\\theta(\\color{red}{s_t})\n",
    "\\right]\n",
    "\\end{equation}\n",
    "\n",
    "The policy parameters are updated using Monte Carlo technique and uses random samples. This introduces high variability in log probabilities and cumulative reward values. This leads to noisy gradients and can cause unstable learning.\n",
    "\n",
    "One way to reduce variance and increase stability is subtracting the cumulative reward by a baseline:\n",
    "\n",
    "\\begin{equation}\n",
    "\\nabla J(\\theta) \n",
    "= \\mathbb{E}\n",
    "\\left[\n",
    "   \\sum_{t=0}^T \\color{green} (G_t  - b)\n",
    "  \\nabla\\log\\color{blue}\\pi_\\theta(\\color{red}{s_t})\n",
    "\\right]\n",
    "\\end{equation}\n",
    "\n",
    "Intuitively, reducing cumulative reward will make smaller gradients and thus smaller and more stable (hopefully) updates.\n",
    "\n",
    "From the lecture slides, we know that in Actor Critic Method:\n",
    "1. The Critic estimates the value function. This could be the action-value (the Q value) or state-value (the V value).\n",
    "2. The Actor updates the policy distribution in the direction suggested by the Critic (such as with policy gradients).\n",
    "\n",
    "Both the Critic and Actor functions are parameterized with neural networks. The \"Critic\" network parameterizes the Q-value."
   ]
  },
  {
   "cell_type": "markdown",
   "metadata": {},
   "source": [
    "###  Set the hyperparameters for Actor Critic\n"
   ]
  },
  {
   "cell_type": "code",
   "execution_count": null,
   "metadata": {
    "cellView": "form",
    "execution": {},
    "tags": [
     "hide-input"
    ]
   },
   "outputs": [],
   "source": [
    "# @title Set the hyperparameters for Actor Critic\n",
    "\n",
    "learning_rate = 0.01  # @param {type:\"number\"}\n",
    "gamma = 0.99  # @param {type:\"number\"}\n",
    "dropout = 0.6\n",
    "\n",
    "# Only used in Actor-Critic Method\n",
    "hidden_size = 256  # @param {type:\"integer\"}\n",
    "\n",
    "num_steps = 300"
   ]
  },
  {
   "cell_type": "markdown",
   "metadata": {
    "execution": {}
   },
   "source": [
    "### Actor Critic Network"
   ]
  },
  {
   "cell_type": "code",
   "execution_count": null,
   "metadata": {
    "execution": {}
   },
   "outputs": [],
   "source": [
    "class ActorCriticNet(nn.Module):\n",
    "  \"\"\"\n",
    "  Build Actor Critic Network\n",
    "  \"\"\"\n",
    "\n",
    "  def __init__(self, num_inputs, num_actions, hidden_size, learning_rate=3e-4):\n",
    "    \"\"\"\n",
    "    Initiate Actor Critic Network\n",
    "\n",
    "    Args:\n",
    "      num_inputs: int\n",
    "        Number of inputs incoming into the Network\n",
    "      num_actions: int\n",
    "        Number of actions\n",
    "      hidden_size: int\n",
    "        Size of hidden layer in the network\n",
    "      learning_rate: Float\n",
    "        Learning rate of Actor Critic Network\n",
    "\n",
    "    Returns:\n",
    "      Nothing\n",
    "    \"\"\"\n",
    "    super(ActorCriticNet, self).__init__()\n",
    "\n",
    "    self.num_actions = num_actions\n",
    "    self.critic_linear1 = nn.Linear(num_inputs, hidden_size)\n",
    "    self.critic_linear2 = nn.Linear(hidden_size, 1)\n",
    "\n",
    "    self.actor_linear1 = nn.Linear(num_inputs, hidden_size)\n",
    "    self.actor_linear2 = nn.Linear(hidden_size, num_actions)\n",
    "\n",
    "    self.all_rewards = []\n",
    "    self.all_lengths = []\n",
    "    self.average_lengths = []\n",
    "\n",
    "  def forward(self, state):\n",
    "    \"\"\"\n",
    "    Describes forward pass of Actor Critic Network\n",
    "\n",
    "    Args:\n",
    "      state: np.ndarray\n",
    "        Describes state\n",
    "\n",
    "    Returns:\n",
    "      Value and Policy Distribution\n",
    "    \"\"\"\n",
    "    state = Variable(torch.from_numpy(state).float().unsqueeze(0))\n",
    "    value = F.relu(self.critic_linear1(state))\n",
    "    value = self.critic_linear2(value)\n",
    "\n",
    "    policy_dist = F.relu(self.actor_linear1(state))\n",
    "    policy_dist = F.softmax(self.actor_linear2(policy_dist), dim=1)\n",
    "\n",
    "    return value, policy_dist"
   ]
  },
  {
   "cell_type": "markdown",
   "metadata": {
    "execution": {}
   },
   "source": [
    "### Training"
   ]
  },
  {
   "cell_type": "code",
   "execution_count": null,
   "metadata": {
    "execution": {}
   },
   "outputs": [],
   "source": [
    "def actor_critic_train(episodes):\n",
    "  \"\"\"\n",
    "  Helper function to train Actor Critic Network\n",
    "\n",
    "  Args:\n",
    "    episodes: list\n",
    "      Log of episode for all episodes\n",
    "\n",
    "  Returns:\n",
    "    Nothing\n",
    "  \"\"\"\n",
    "  all_lengths = []\n",
    "  average_lengths = []\n",
    "  all_rewards = []\n",
    "  entropy_term = 0\n",
    "\n",
    "  for episode in range(episodes):\n",
    "    log_probs = []\n",
    "    values = []\n",
    "    rewards = []\n",
    "\n",
    "    state = env.reset()\n",
    "    for steps in range(num_steps):\n",
    "      value, policy_dist = actor_critic.forward(state)\n",
    "      value = value.detach().numpy()[0, 0]\n",
    "      dist = policy_dist.detach().numpy()\n",
    "\n",
    "      action = np.random.choice(num_outputs, p=np.squeeze(dist))\n",
    "      log_prob = torch.log(policy_dist.squeeze(0)[action])\n",
    "      entropy = -np.sum(np.mean(dist) * np.log(dist))\n",
    "      new_state, reward, done, _ = env.step(action)\n",
    "\n",
    "      rewards.append(reward)\n",
    "      values.append(value)\n",
    "      log_probs.append(log_prob)\n",
    "      entropy_term += entropy\n",
    "      state = new_state\n",
    "\n",
    "      if done or steps == num_steps - 1:\n",
    "        qval, _ = actor_critic.forward(new_state)\n",
    "        qval = qval.detach().numpy()[0, 0]\n",
    "        all_rewards.append(np.sum(rewards))\n",
    "        all_lengths.append(steps)\n",
    "        average_lengths.append(np.mean(all_lengths[-10:]))\n",
    "        if episode % 50 == 0:\n",
    "          print(f\"episode: {episode},\\treward: {np.sum(rewards)},\"\n",
    "                f\"\\ttotal length: {steps},\"\n",
    "                f\"\\taverage length: {average_lengths[-1]}\")\n",
    "        break\n",
    "\n",
    "    # compute Q values\n",
    "    qvals = np.zeros_like(values)\n",
    "    for t in reversed(range(len(rewards))):\n",
    "      qval = rewards[t] + gamma * qval\n",
    "      qvals[t] = qval\n",
    "\n",
    "    #update actor critic\n",
    "    values = torch.FloatTensor(values)\n",
    "    qvals = torch.FloatTensor(qvals)\n",
    "    log_probs = torch.stack(log_probs)\n",
    "\n",
    "    advantage = qvals - values\n",
    "    actor_loss = (-log_probs * advantage).mean()\n",
    "    critic_loss = 0.5 * advantage.pow(2).mean()\n",
    "    ac_loss = actor_loss + critic_loss + 0.001 * entropy_term\n",
    "\n",
    "    ac_optimizer.zero_grad()\n",
    "    ac_loss.backward()\n",
    "    ac_optimizer.step()\n",
    "\n",
    "  # Store results\n",
    "  actor_critic.average_lengths = average_lengths\n",
    "  actor_critic.all_rewards = all_rewards\n",
    "  actor_critic.all_lengths = all_lengths"
   ]
  },
  {
   "cell_type": "markdown",
   "metadata": {
    "execution": {}
   },
   "source": [
    "### Run the model"
   ]
  },
  {
   "cell_type": "code",
   "execution_count": null,
   "metadata": {
    "cellView": "form",
    "execution": {}
   },
   "outputs": [],
   "source": [
    "episodes = 500   # @param {type:\"integer\"}\n",
    "\n",
    "env.reset()\n",
    "\n",
    "num_inputs = env.observation_space.shape[0]\n",
    "num_outputs = env.action_space.n\n",
    "\n",
    "actor_critic = ActorCriticNet(num_inputs, num_outputs, hidden_size)\n",
    "ac_optimizer = optim.Adam(actor_critic.parameters())\n",
    "\n",
    "actor_critic_train(episodes)"
   ]
  },
  {
   "cell_type": "markdown",
   "metadata": {
    "execution": {}
   },
   "source": [
    "### Plot the results"
   ]
  },
  {
   "cell_type": "markdown",
   "metadata": {},
   "source": [
    "####  Plot the training performance for Actor Critic\n"
   ]
  },
  {
   "cell_type": "code",
   "execution_count": null,
   "metadata": {
    "cellView": "form",
    "execution": {},
    "tags": [
     "hide-input"
    ]
   },
   "outputs": [],
   "source": [
    "# @title Plot the training performance for Actor Critic\n",
    "\n",
    "\n",
    "def plot_actor_critic_training(actor_critic, episodes):\n",
    "  \"\"\"\n",
    "  Plot the training performance for Actor Critic\n",
    "\n",
    "  Args:\n",
    "    actor_critic: nn.module\n",
    "      Actor Critic Network whose performance is to be plotted\n",
    "    episodes: int\n",
    "      Number of episodes\n",
    "\n",
    "  Returns:\n",
    "    Nothing\n",
    "  \"\"\"\n",
    "  window = int(episodes / 20)\n",
    "\n",
    "  plt.figure(figsize=(15, 4))\n",
    "  plt.subplot(1, 2, 1)\n",
    "\n",
    "  smoothed_rewards = pd.Series(actor_critic.all_rewards).rolling(window).mean()\n",
    "  std = pd.Series(actor_critic.all_rewards).rolling(window).std()\n",
    "\n",
    "  plt.plot(smoothed_rewards, label='Smoothed rewards')\n",
    "  plt.fill_between(range(len(smoothed_rewards)),\n",
    "                   smoothed_rewards - std, smoothed_rewards + std,\n",
    "                   color='orange', alpha=0.2)\n",
    "\n",
    "  plt.xlabel('Episode')\n",
    "  plt.ylabel('Reward')\n",
    "\n",
    "  plt.subplot(1, 2, 2)\n",
    "  plt.plot(actor_critic.all_lengths, label='All lengths')\n",
    "  plt.plot(actor_critic.average_lengths, label='Average lengths')\n",
    "  plt.xlabel('Episode')\n",
    "  plt.ylabel('Episode length')\n",
    "  plt.legend()\n",
    "\n",
    "  plt.tight_layout()\n",
    "  plt.show()\n",
    "\n",
    "\n",
    "plot_actor_critic_training(actor_critic, episodes)"
   ]
  },
  {
   "cell_type": "markdown",
   "metadata": {
    "execution": {}
   },
   "source": [
    "### Exercise 3.2.1: Effect of episodes on performance\n",
    "\n",
    "Change the episodes from 500 to 3000 and observe the performance impact."
   ]
  },
  {
   "cell_type": "markdown",
   "metadata": {
    "execution": {}
   },
   "source": [
    "### Exercise 3.2.2: Effect of learning rate on performance\n",
    "\n",
    "Modify the hyperparameters related to `learning_rate` and `gamma` and observe the impact on the performance.\n",
    "\n",
    "Be sure to rerun the function definition cells in order to pick up on the updated values."
   ]
  },
  {
   "cell_type": "markdown",
   "metadata": {
    "execution": {}
   },
   "source": [
    "---\n",
    "# Section 4: RL in the real world\n",
    "\n",
    "*Time estimate: ~10mins*"
   ]
  },
  {
   "cell_type": "markdown",
   "metadata": {},
   "source": [
    "##  Video 4: Real-world applications and ethics\n"
   ]
  },
  {
   "cell_type": "code",
   "execution_count": null,
   "metadata": {
    "cellView": "form",
    "execution": {},
    "tags": [
     "remove-input"
    ]
   },
   "outputs": [],
   "source": [
    "# @title Video 4: Real-world applications and ethics\n",
    "from ipywidgets import widgets\n",
    "\n",
    "out2 = widgets.Output()\n",
    "with out2:\n",
    "  from IPython.display import IFrame\n",
    "  class BiliVideo(IFrame):\n",
    "    def __init__(self, id, page=1, width=400, height=300, **kwargs):\n",
    "      self.id=id\n",
    "      src = \"https://player.bilibili.com/player.html?bvid={0}&page={1}\".format(id, page)\n",
    "      super(BiliVideo, self).__init__(src, width, height, **kwargs)\n",
    "\n",
    "  video = BiliVideo(id=f\"BV1Nq4y1X7AF\", width=730, height=410, fs=1)\n",
    "  print(\"Video available at https://www.bilibili.com/video/{0}\".format(video.id))\n",
    "  display(video)\n",
    "\n",
    "out1 = widgets.Output()\n",
    "with out1:\n",
    "  from IPython.display import YouTubeVideo\n",
    "  video = YouTubeVideo(id=f\"5kBtiW88QVw\", width=730, height=410, fs=1, rel=0)\n",
    "  print(\"Video available at https://youtube.com/watch?v=\" + video.id)\n",
    "  display(video)\n",
    "\n",
    "out = widgets.Tab([out1, out2])\n",
    "out.set_title(0, 'Youtube')\n",
    "out.set_title(1, 'Bilibili')\n",
    "\n",
    "display(out)"
   ]
  },
  {
   "cell_type": "markdown",
   "metadata": {
    "execution": {}
   },
   "source": [
    "## Exercise 4: Group discussion\n",
    "\n",
    "Form a group of 2-3 and have discussions (roughly 3 minutes each) of the following questions:\n",
    "\n",
    "1. **Safety**: what are some safety issues that arise in RL that don't arise with say, supervised learning?\n",
    "\n",
    "2. **Generalization**: What happens if your RL agent is presented with data it hasn't trained on (i.e., goes out of distribution)?\n",
    "\n",
    "3. How important do you think **interpretability** is in the ethical and safe deployment of RL agents in the real world? \n",
    "\n",
    "This should be a very open-ended discussion. Try to have everyone say at least\n",
    "one thing. They can either take these 3 questions in turn, with 3-4 minutes\n",
    "allotted to each, or address them all at once, and allow for a more natural\n",
    "conversation."
   ]
  },
  {
   "cell_type": "markdown",
   "metadata": {
    "colab_type": "text",
    "execution": {}
   },
   "source": [
    "[*Click for solution*](https://github.com/NeuromatchAcademy/course-content-dl/tree/main//tutorials/W3D4_BasicReinforcementLearning/solutions/W3D4_Tutorial5_Solution_5e962725.py)\n",
    "\n"
   ]
  },
  {
   "cell_type": "markdown",
   "metadata": {
    "execution": {}
   },
   "source": [
    "---\n",
    "# Section 5: How to learn more"
   ]
  },
  {
   "cell_type": "markdown",
   "metadata": {},
   "source": [
    "##  Video 5: How to learn more\n"
   ]
  },
  {
   "cell_type": "code",
   "execution_count": null,
   "metadata": {
    "cellView": "form",
    "execution": {},
    "tags": [
     "remove-input"
    ]
   },
   "outputs": [],
   "source": [
    "# @title Video 5: How to learn more\n",
    "from ipywidgets import widgets\n",
    "\n",
    "out2 = widgets.Output()\n",
    "with out2:\n",
    "  from IPython.display import IFrame\n",
    "  class BiliVideo(IFrame):\n",
    "    def __init__(self, id, page=1, width=400, height=300, **kwargs):\n",
    "      self.id=id\n",
    "      src = \"https://player.bilibili.com/player.html?bvid={0}&page={1}\".format(id, page)\n",
    "      super(BiliVideo, self).__init__(src, width, height, **kwargs)\n",
    "\n",
    "  video = BiliVideo(id=f\"BV1WM4y1T7G5\", width=730, height=410, fs=1)\n",
    "  print(\"Video available at https://www.bilibili.com/video/{0}\".format(video.id))\n",
    "  display(video)\n",
    "\n",
    "out1 = widgets.Output()\n",
    "with out1:\n",
    "  from IPython.display import YouTubeVideo\n",
    "  video = YouTubeVideo(id=f\"dKaOpgor5Ek\", width=730, height=410, fs=1, rel=0)\n",
    "  print(\"Video available at https://youtube.com/watch?v=\" + video.id)\n",
    "  display(video)\n",
    "\n",
    "out = widgets.Tab([out1, out2])\n",
    "out.set_title(0, 'Youtube')\n",
    "out.set_title(1, 'Bilibili')\n",
    "\n",
    "display(out)"
   ]
  },
  {
   "cell_type": "markdown",
   "metadata": {
    "execution": {}
   },
   "source": [
    "---\n",
    "# Appendix and further reading\n",
    "\n",
    "Books and lecture notes\n",
    "* Sutton, R.S., Barto, A.G. (2018). Reinforcement learning: An introduction. MIT press, 2018. url: [incompleteideas.net/book/RLbook2018](http://incompleteideas.net/book/RLbook2018.pdf)\n",
    "* Szepesvari, C. (2010). Algorithms for reinforcement learning. Synthesis lectures on artificial intelligence and machine learning, **4**(1): 1-103. url: [sites.ualberta.ca/~szepesva/papers/RLAlgsInMDPs](https://sites.ualberta.ca/~szepesva/papers/RLAlgsInMDPs.pdf)\n",
    "\n",
    "Lectures and course \n",
    "* [RL Course by David Silver](https://www.youtube.com/playlist?list=PLzuuYNsE1EZAXYR4FJ75jcJseBmo4KQ9-)\n",
    "* [Reinforcement Learning Course by UCL & DeepMind](https://www.youtube.com/playlist?list=PLqYmG7hTraZBKeNJ-JE_eyJHZ7XgBoAyb)\n",
    "* [Stanford RL Course by Emma Brunskill](https://www.youtube.com/playlist?list=PLoROMvodv4rOSOPzutgyCTapiGlY2Nd8u)\n",
    "* [RL Course on Coursera by Martha White and Adam White](https://www.coursera.org/specializations/reinforcement-learning)\n",
    "\n",
    "More practical:\n",
    "* [Spinning Up in Deep RL by Josh Achiam](https://spinningup.openai.com/en/latest/)\n",
    "* [Acme white paper](https://arxiv.org/abs/2006.00979) & [Colab tutorial](https://github.com/deepmind/acme/blob/master/examples/tutorial.ipynb)\n",
    "\n",
    " <br>\n",
    "\n",
    "Link to the [tweet thread](https://twitter.com/FeryalMP/status/1407272291579355136?s=20) with resources recommended by the community.\n",
    " \n",
    "<br>\n",
    "\n",
    "This notebook is based on the [EEML 2020 RL practical](https://colab.research.google.com/github/eemlcommunity/PracticalSessions2020/blob/master/rl/EEML2020_RL_Tutorial.ipynb) by Feryal Behbahani & Gheorghe Comanici. If you are interested in JAX you should try the colab. If you are interested in Tensorflow, there is also a version of the colab for the [MLSS 2020 RL Tutorial](https://github.com/Feryal/rl_mlss_2020) that you can try!"
   ]
  }
 ],
 "metadata": {
  "accelerator": "GPU",
  "colab": {
   "collapsed_sections": [],
   "include_colab_link": true,
   "name": "W3D4_Tutorial5",
   "provenance": [],
   "toc_visible": true
  },
  "kernel": {
   "display_name": "Python 3",
   "language": "python",
   "name": "python3"
  },
  "kernelspec": {
   "display_name": "Python 3",
   "name": "python3"
  }
 },
 "nbformat": 4,
 "nbformat_minor": 0
}